{
 "cells": [
  {
   "cell_type": "code",
   "execution_count": 165,
   "id": "7adfed1c",
   "metadata": {},
   "outputs": [],
   "source": [
    "import matplotlib.pyplot as plt\n",
    "import pandas as pd\n",
    "import numpy as np\n",
    "import time\n",
    "import seaborn as sns\n",
    "from pylab import rcParams\n",
    "%matplotlib inline\n",
    "from sklearn.model_selection import train_test_split\n",
    "from matplotlib.colors import ListedColormap\n",
    "from sklearn.metrics import confusion_matrix\n",
    "from sklearn.ensemble import RandomForestClassifier\n",
    "from sklearn.model_selection import GridSearchCV\n",
    "from sklearn.metrics import accuracy_score\n",
    "from sklearn.metrics import classification_report\n",
    "from sklearn.metrics import roc_auc_score\n",
    "from sklearn.metrics import precision_recall_curve, auc\n"
   ]
  },
  {
   "cell_type": "code",
   "execution_count": 197,
   "id": "564a2b5d",
   "metadata": {},
   "outputs": [
    {
     "name": "stdout",
     "output_type": "stream",
     "text": [
      "Id        object\n",
      "AB       float64\n",
      "AF       float64\n",
      "AH       float64\n",
      "AM       float64\n",
      "AR       float64\n",
      "AX       float64\n",
      "AY       float64\n",
      "AZ       float64\n",
      "BC       float64\n",
      "BD       float64\n",
      "BN       float64\n",
      "BP       float64\n",
      "BQ       float64\n",
      "BR       float64\n",
      "BZ       float64\n",
      "CB       float64\n",
      "CC       float64\n",
      "CD       float64\n",
      "CF       float64\n",
      "CH       float64\n",
      "CL       float64\n",
      "CR       float64\n",
      "CS       float64\n",
      "CU       float64\n",
      "CW       float64\n",
      "DA       float64\n",
      "DE       float64\n",
      "DF       float64\n",
      "DH       float64\n",
      "DI       float64\n",
      "DL       float64\n",
      "DN       float64\n",
      "DU       float64\n",
      "DV       float64\n",
      "DY       float64\n",
      "EB       float64\n",
      "EE       float64\n",
      "EG       float64\n",
      "EH       float64\n",
      "EJ        object\n",
      "EL       float64\n",
      "EP       float64\n",
      "EU       float64\n",
      "FC       float64\n",
      "FD       float64\n",
      "FE       float64\n",
      "FI       float64\n",
      "FL       float64\n",
      "FR       float64\n",
      "FS       float64\n",
      "GB       float64\n",
      "GE       float64\n",
      "GF       float64\n",
      "GH       float64\n",
      "GI       float64\n",
      "GL       float64\n",
      "Class      int64\n",
      "dtype: object\n"
     ]
    }
   ],
   "source": [
    "train = pd.read_csv('/Users/robertoaltran/Documents/2:2023/machinelearning/train.csv')\n",
    "sample_submission = pd.read_csv('/Users/robertoaltran/Documents/2:2023/machinelearning/submission.csv')\n",
    "test = pd.read_csv('/Users/robertoaltran/Documents/2:2023/machinelearning/test.csv')\n",
    "print(train.dtypes)"
   ]
  },
  {
   "cell_type": "markdown",
   "id": "f0d76409",
   "metadata": {},
   "source": [
    "### Task 1"
   ]
  },
  {
   "cell_type": "code",
   "execution_count": 3,
   "id": "03335e99",
   "metadata": {
    "scrolled": true
   },
   "outputs": [
    {
     "data": {
      "text/plain": [
       "0    B\n",
       "1    A\n",
       "2    B\n",
       "3    B\n",
       "4    B\n",
       "Name: EJ, dtype: object"
      ]
     },
     "execution_count": 3,
     "metadata": {},
     "output_type": "execute_result"
    }
   ],
   "source": [
    "train['EJ'].head()"
   ]
  },
  {
   "cell_type": "code",
   "execution_count": 4,
   "id": "c5046bb9",
   "metadata": {},
   "outputs": [],
   "source": [
    "mapping = {'A': 1, 'B': -1}\n",
    "train['EJ'] = train['EJ'].replace(mapping) #dando novo valor para EJ\n",
    "train['EJ'] = train['EJ'].astype(float) #transformando este valor em float\n",
    "train['Class'] = train['Class'].astype(float) #transformando este valor em float\n",
    "train[\"Class\"].replace(0, -1, inplace=True)"
   ]
  },
  {
   "cell_type": "markdown",
   "id": "21af38be",
   "metadata": {},
   "source": [
    "Loading the CSV file and examining its content, a categorical variable was identified based on the instructions provided on the Kaggle website. The column labeled 'EJ' was selected with the data type 'object'. After closer inspection, it became evident that the values within this column were not in numerical form. So, the  'A' and 'B' were converted to the numerical values 1 and -1."
   ]
  },
  {
   "cell_type": "code",
   "execution_count": 5,
   "id": "fd110a83",
   "metadata": {},
   "outputs": [],
   "source": [
    "def split_train_test_data(data_frame, class_column_name, test_size=0.2, random_state=42):\n",
    "    positive_data = data_frame[data_frame[class_column_name] == 1]\n",
    "    negative_data = data_frame[data_frame[class_column_name] == -1]\n",
    "    \n",
    "    # Embaralhar os dados de cada classe separadamente\n",
    "    positive_data = positive_data.sample(frac=1, random_state=random_state)\n",
    "    negative_data = negative_data.sample(frac=1, random_state=random_state)\n",
    "\n",
    "    # Dividir cada classe em dados de treinamento e teste\n",
    "    train_positive, test_positive = train_test_split(positive_data, test_size=test_size, random_state=random_state)\n",
    "    train_negative, test_negative = train_test_split(negative_data, test_size=test_size, random_state=random_state)\n",
    "\n",
    "    # Combinar os dados de treinamento e teste de ambas as classes\n",
    "    train_data = pd.concat([train_positive, train_negative])\n",
    "    test_data = pd.concat([test_positive, test_negative])\n",
    "    \n",
    "    return train_data, test_data\n"
   ]
  },
  {
   "cell_type": "code",
   "execution_count": 6,
   "id": "3e6036b7",
   "metadata": {},
   "outputs": [],
   "source": [
    "train_data, test_data = split_train_test_data(train, 'Class', test_size=0.2, random_state=42)\n",
    "test_data=test_data.values"
   ]
  },
  {
   "cell_type": "code",
   "execution_count": 7,
   "id": "d349608b",
   "metadata": {},
   "outputs": [],
   "source": [
    "label = train_data[\"Class\"].to_numpy()\n",
    "x = train_data.iloc[:, 1:-1].copy()\n",
    "x = x.values"
   ]
  },
  {
   "cell_type": "markdown",
   "id": "f8eae948",
   "metadata": {},
   "source": [
    "The dataset has been divided into training and testing subsets. Additionally, the target label has been extracted."
   ]
  },
  {
   "cell_type": "code",
   "execution_count": 8,
   "id": "024e9aad",
   "metadata": {},
   "outputs": [],
   "source": [
    "def initialize_adaboost_parameters(x, T):\n",
    "    dim = x.shape[1]\n",
    "    N = x.shape[0]\n",
    "    \n",
    "    h = np.zeros([T, 3], dtype=np.float64)\n",
    "    alpha = np.zeros(T, dtype=np.float64)\n",
    "    weight = np.ones(N, dtype=np.float64) / N\n",
    "    err = np.ones(T, dtype=np.float64) * np.inf\n",
    "    \n",
    "    return dim, N, h, alpha, weight, err"
   ]
  },
  {
   "cell_type": "code",
   "execution_count": 9,
   "id": "75c022c7",
   "metadata": {},
   "outputs": [],
   "source": [
    "def calculate_decision_stump_efficient(data, feature, weight, label):\n",
    "\n",
    "    Tp=np.float64(0); #T+ total sum of positive examples weights\n",
    "    Tn=np.float64(0) #T- total sum of negative examples weights\n",
    "    Sp=np.float64(0) #S+ sum of positive weights below the cuurent threshold\n",
    "    Sn=np.float64(0) #S- sum of negative weights below the current threshold\n",
    "    error1=np.float64(0)\n",
    "    error2=np.float64(0)\n",
    "    min_error=np.float64(2.0) \n",
    "    min_thresh=np.float64(0) \n",
    "    direction=1\n",
    "    \n",
    "    y = np.zeros(N, dtype=np.int64)\n",
    "    \n",
    "    #get all positive weights    \n",
    "    temp  = (label == 1)\n",
    "    temp = np.int64(temp)\n",
    "    Tp = np.sum(temp * weight)\n",
    "    \n",
    "    #get all negative weights  \n",
    "    temp  = (label == -1)\n",
    "    temp = np.int64(temp)\n",
    "    Tn = np.sum(temp * weight)\n",
    "    \n",
    "    #sort feature values\n",
    "    sorted_labels = data[:, feature].argsort()\n",
    "    sorted_vector =  data[sorted_labels]\n",
    "\n",
    "    length = len(sorted_vector)\n",
    "    for i in range(length):\n",
    "\n",
    "        #RIGHT DIRECTION THRESHOLD\n",
    "        #error1 is the sum of positives up to that point + total negatives minus the sum of negatives so far\n",
    "        error1 = Sp + (Tn - Sn) \n",
    "        if label[sorted_labels[i]] == -1 : \n",
    "            Sn = Sn +  weight[sorted_labels[i]]\n",
    "        else :\n",
    "            Sp = Sp + weight[sorted_labels[i]]\n",
    "            \n",
    "        #LEFT DIRECTION THRESHOLD\n",
    "        error2 = Sn + (Tp - Sp) \n",
    "        \n",
    "        if(min_error > error1) :\n",
    "            min_error = error1\n",
    "            min_thresh = sorted_vector[i, feature]\n",
    "            direction = 1\n",
    "        if(min_error > error2) :\n",
    "            min_error = error2\n",
    "            min_thresh = sorted_vector[i, feature]\n",
    "            direction = -1           \n",
    "    \n",
    "    return min_thresh, direction, min_error"
   ]
  },
  {
   "cell_type": "code",
   "execution_count": 10,
   "id": "362a222f",
   "metadata": {},
   "outputs": [],
   "source": [
    "def calculate_alpha(weighted_error):   \n",
    "        return 0.5 * np.log( (1.0 - weighted_error) / weighted_error )"
   ]
  },
  {
   "cell_type": "code",
   "execution_count": 11,
   "id": "e320af0c",
   "metadata": {},
   "outputs": [],
   "source": [
    "def classify_dataset_against_weak_classifier(x, thresh, direction):\n",
    "    \n",
    "    classification = np.zeros(len(x))\n",
    "    for i in range(len(x)):\n",
    "        if direction == -1:\n",
    "            if x[i] < thresh: classification[i] = 1\n",
    "            else : classification[i] = -1\n",
    "        else:\n",
    "            if x[i] < thresh: classification[i] = -1\n",
    "            else : classification[i] = 1    \n",
    "        \n",
    "                \n",
    "    return classification "
   ]
  },
  {
   "cell_type": "code",
   "execution_count": 12,
   "id": "29b5795f",
   "metadata": {},
   "outputs": [],
   "source": [
    "def update_weights(weight, alpha, classification, label):\n",
    "    for i in range(len(weight)):\n",
    "        weight[i] =  weight[i] * np.exp( -1.0 * alpha * classification[i] * label[i] ) \n",
    "    return weight"
   ]
  },
  {
   "cell_type": "code",
   "execution_count": 13,
   "id": "f879aa60",
   "metadata": {},
   "outputs": [],
   "source": [
    "def normalise_weights(weight):\n",
    "    weight = weight / np.sum(weight)\n",
    "    return weight "
   ]
  },
  {
   "cell_type": "code",
   "execution_count": 14,
   "id": "a65e5747",
   "metadata": {},
   "outputs": [],
   "source": [
    "def classify_sample(xi, boost_classif, threshold):\n",
    "    boost_classif = boost_classif.values\n",
    "    classification_sum = np.float64(0)\n",
    "    for thresh, feat, sign, alpha in boost_classif:\n",
    "        ht = np.sign(xi[int(feat)] - thresh) * sign\n",
    "        classification_sum += alpha * ht \n",
    "        \n",
    "    if classification_sum >= threshold:\n",
    "        return 1\n",
    "    \n",
    "    else:\n",
    "        return -1\n"
   ]
  },
  {
   "cell_type": "code",
   "execution_count": 15,
   "id": "0022113b",
   "metadata": {},
   "outputs": [],
   "source": [
    "T = 10\n",
    "dim, N, h, alpha, weight, err = initialize_adaboost_parameters(x, T)"
   ]
  },
  {
   "cell_type": "markdown",
   "id": "a72f37c5",
   "metadata": {},
   "source": [
    "Next, the parameters for the Adaboost algorithm are specified. The number of iterations is set to begin with a low value and gradually increase. This approach allows us to assess the impact of the number of iterations on the results."
   ]
  },
  {
   "cell_type": "code",
   "execution_count": 16,
   "id": "c184988d",
   "metadata": {},
   "outputs": [],
   "source": [
    "temp_sum = np.zeros(N, dtype=np.float64)\n",
    "temp = np.zeros(N, dtype=np.float64)\n",
    "final_label = np.zeros(N, dtype=np.float64)\n",
    "misshits = np.array([None] * (T+1), dtype=float)\n",
    "misshits[0] = 1.0\n",
    "classification_boundaries = []\n",
    "weight_prev = weight\n",
    "weighted_error = np.float64(0)"
   ]
  },
  {
   "cell_type": "code",
   "execution_count": 17,
   "id": "88850736",
   "metadata": {},
   "outputs": [],
   "source": [
    "for t in range(T): \n",
    "    for feature in range(dim):\n",
    "        weighted_error = np.float64(0)\n",
    "        threshold, sign, weighted_error = calculate_decision_stump_efficient(x, feature, weight, label)       \n",
    "        if weighted_error < err[t] :\n",
    "            err[t] = weighted_error\n",
    "            h[t][0] = threshold\n",
    "            h[t][1] = feature\n",
    "            h[t][2] = sign\n",
    "    alpha[t] = calculate_alpha(err[t])\n",
    "    classification = classify_dataset_against_weak_classifier(x[:, int(h[t][1]) ], h[t][0], h[t][2] )  \n",
    "    weight = update_weights(weight, alpha[t], classification, label)\n",
    "    weight = normalise_weights(weight )"
   ]
  },
  {
   "cell_type": "code",
   "execution_count": 18,
   "id": "5a27cc81",
   "metadata": {},
   "outputs": [],
   "source": [
    "classifier_df10 = pd.DataFrame(h, columns=['threshold','feature','direction'])\n",
    "classifier_df10['alpha'] = alpha"
   ]
  },
  {
   "cell_type": "markdown",
   "id": "452b9c78",
   "metadata": {},
   "source": [
    "As can be observed, the first classifier is extracted. This step allows the algorithm to be applied and assesses its performance in classifying the test subset."
   ]
  },
  {
   "cell_type": "code",
   "execution_count": 23,
   "id": "0d88f6a2",
   "metadata": {},
   "outputs": [],
   "source": [
    "def evaluate_and_store_result(store_result, test_train, model_name, threshold, classifier_df ):\n",
    "    \n",
    "    resultmatrix = pd.DataFrame(columns=['prevision', 'last_column'])\n",
    "\n",
    "    for i in range(len(test_train)):\n",
    "        classification = classify_sample(test_train[i], classifier_df, threshold)\n",
    "        last_column_value = test_train[i][-1]\n",
    "        resultmatrix = resultmatrix.append({'prevision': classification, 'last_column': last_column_value}, ignore_index=True)\n",
    "\n",
    "    predicted = resultmatrix['prevision']\n",
    "    true_values = resultmatrix['last_column']\n",
    "    confusion = confusion_matrix(true_values, predicted)\n",
    "    print(confusion)\n",
    "    new_row = {'model': model_name, 'TN': confusion[0, 0], 'FP': confusion[0, 1], 'TP': confusion[1, 1], 'FN': confusion[1, 0]}\n",
    "    store_result = store_result.append(new_row, ignore_index=True)\n",
    "    \n",
    "    return store_result\n"
   ]
  },
  {
   "cell_type": "markdown",
   "id": "4d544a01",
   "metadata": {},
   "source": []
  },
  {
   "cell_type": "code",
   "execution_count": 24,
   "id": "2fb7a62f",
   "metadata": {},
   "outputs": [
    {
     "name": "stdout",
     "output_type": "stream",
     "text": [
      "[[45 57]\n",
      " [ 2 20]]\n"
     ]
    }
   ],
   "source": [
    "store_result = pd.DataFrame(columns=['model', 'TN', 'FP', 'TP', 'FN'])\n",
    "threshold = 0\n",
    "model_name = \"Model 1\"\n",
    "store_result = evaluate_and_store_result(store_result, test_data, model_name, threshold, classifier_df10)"
   ]
  },
  {
   "cell_type": "markdown",
   "id": "a4bebf11",
   "metadata": {},
   "source": [
    "The results for the model with 10 iterations and a threshold of 0 can be seen above on the confusion matrix. True possitive are 20 and the true negative 45.\n"
   ]
  },
  {
   "cell_type": "code",
   "execution_count": 25,
   "id": "dbdf66d1",
   "metadata": {},
   "outputs": [
    {
     "name": "stdout",
     "output_type": "stream",
     "text": [
      "[[81 21]\n",
      " [13  9]]\n",
      "[[ 8 94]\n",
      " [ 0 22]]\n"
     ]
    }
   ],
   "source": [
    "threshold = 3\n",
    "model_name = \"Model 2\"\n",
    "store_result = evaluate_and_store_result(store_result, test_data, model_name, threshold, classifier_df10 )\n",
    "threshold = -1\n",
    "model_name = \"Model 3\"\n",
    "store_result = evaluate_and_store_result(store_result, test_data, model_name, threshold,classifier_df10 )"
   ]
  },
  {
   "cell_type": "markdown",
   "id": "9915e30e",
   "metadata": {},
   "source": [
    "The threshold is adjusted to 3 and -1, while keeping the iteration value unchanged to observe if better results can be achieved. Model 2 appears to perform better. The following code will involve increasing the iteration count and combining it with various threshold values. Finally, I will provide a summary of the best-performing model."
   ]
  },
  {
   "cell_type": "code",
   "execution_count": 39,
   "id": "5023605a",
   "metadata": {},
   "outputs": [],
   "source": [
    "T = 50\n",
    "dim, N, h, alpha, weight, err = initialize_adaboost_parameters(x, T)\n",
    "temp_sum = np.zeros(N, dtype=np.float64)\n",
    "temp = np.zeros(N, dtype=np.float64)\n",
    "final_label = np.zeros(N, dtype=np.float64)\n",
    "misshits = np.array([None] * (T+1), dtype=float)\n",
    "misshits[0] = 1.0\n",
    "classification_boundaries = []\n",
    "weight_prev = weight\n",
    "weighted_error = np.float64(0)\n",
    "for t in range(T): \n",
    "    for feature in range(dim):\n",
    "        weighted_error = np.float64(0)\n",
    "        threshold, sign, weighted_error = calculate_decision_stump_efficient(x, feature, weight, label)       \n",
    "        if weighted_error < err[t] :\n",
    "            err[t] = weighted_error\n",
    "            h[t][0] = threshold\n",
    "            h[t][1] = feature\n",
    "            h[t][2] = sign\n",
    "    alpha[t] = calculate_alpha(err[t])\n",
    "    classification = classify_dataset_against_weak_classifier(x[:, int(h[t][1]) ], h[t][0], h[t][2] )  \n",
    "    weight = update_weights(weight, alpha[t], classification, label)\n",
    "    weight = normalise_weights(weight )"
   ]
  },
  {
   "cell_type": "code",
   "execution_count": 27,
   "id": "d78dc138",
   "metadata": {},
   "outputs": [],
   "source": [
    "classifier_df50 = pd.DataFrame(h, columns=['threshold','feature','direction'])\n",
    "classifier_df50['alpha'] = alpha"
   ]
  },
  {
   "cell_type": "code",
   "execution_count": 28,
   "id": "31b93063",
   "metadata": {},
   "outputs": [
    {
     "name": "stdout",
     "output_type": "stream",
     "text": [
      "[[24 78]\n",
      " [ 2 20]]\n"
     ]
    }
   ],
   "source": [
    "threshold = 0\n",
    "model_name = \"Model 4\"\n",
    "store_result = evaluate_and_store_result(store_result, test_data, model_name, threshold, classifier_df50)"
   ]
  },
  {
   "cell_type": "code",
   "execution_count": 29,
   "id": "7bff91e7",
   "metadata": {},
   "outputs": [
    {
     "name": "stdout",
     "output_type": "stream",
     "text": [
      "[[58 44]\n",
      " [16  6]]\n"
     ]
    }
   ],
   "source": [
    "threshold = 5\n",
    "model_name = \"Model 5\"\n",
    "store_result = evaluate_and_store_result(store_result, test_data, model_name, threshold, classifier_df50)"
   ]
  },
  {
   "cell_type": "code",
   "execution_count": 30,
   "id": "a3b86f7a",
   "metadata": {
    "scrolled": true
   },
   "outputs": [
    {
     "name": "stdout",
     "output_type": "stream",
     "text": [
      "[[ 8 94]\n",
      " [ 0 22]]\n"
     ]
    }
   ],
   "source": [
    "threshold = -3\n",
    "model_name = \"Model 6\"\n",
    "store_result = evaluate_and_store_result(store_result, test_data, model_name, threshold, classifier_df50)"
   ]
  },
  {
   "cell_type": "code",
   "execution_count": 31,
   "id": "27c16fac",
   "metadata": {},
   "outputs": [],
   "source": [
    "T = 100\n",
    "dim, N, h, alpha, weight, err = initialize_adaboost_parameters(x, T)"
   ]
  },
  {
   "cell_type": "code",
   "execution_count": 32,
   "id": "5942fffd",
   "metadata": {},
   "outputs": [],
   "source": [
    "temp_sum = np.zeros(N, dtype=np.float64)\n",
    "temp = np.zeros(N, dtype=np.float64)\n",
    "final_label = np.zeros(N, dtype=np.float64)\n",
    "misshits = np.array([None] * (T+1), dtype=float)\n",
    "misshits[0] = 1.0\n",
    "classification_boundaries = []\n",
    "weight_prev = weight\n",
    "weighted_error = np.float64(0)"
   ]
  },
  {
   "cell_type": "code",
   "execution_count": 33,
   "id": "61fe0920",
   "metadata": {},
   "outputs": [],
   "source": [
    "for t in range(T): \n",
    "    for feature in range(dim):\n",
    "        weighted_error = np.float64(0)\n",
    "        threshold, sign, weighted_error = calculate_decision_stump_efficient(x, feature, weight, label)       \n",
    "        if weighted_error < err[t] :\n",
    "            err[t] = weighted_error\n",
    "            h[t][0] = threshold\n",
    "            h[t][1] = feature\n",
    "            h[t][2] = sign\n",
    "    alpha[t] = calculate_alpha(err[t])\n",
    "    classification = classify_dataset_against_weak_classifier(x[:, int(h[t][1]) ], h[t][0], h[t][2] )  \n",
    "    weight = update_weights(weight, alpha[t], classification, label)\n",
    "    weight = normalise_weights(weight )"
   ]
  },
  {
   "cell_type": "code",
   "execution_count": 34,
   "id": "90cd7172",
   "metadata": {},
   "outputs": [],
   "source": [
    "classifier_df100 = pd.DataFrame(h, columns=['threshold','feature','direction'])\n",
    "classifier_df100['alpha'] = alpha"
   ]
  },
  {
   "cell_type": "code",
   "execution_count": 35,
   "id": "0cd7df0e",
   "metadata": {},
   "outputs": [
    {
     "name": "stdout",
     "output_type": "stream",
     "text": [
      "[[24 78]\n",
      " [ 2 20]]\n"
     ]
    }
   ],
   "source": [
    "threshold = 0\n",
    "model_name = \"Model 7\"\n",
    "store_result = evaluate_and_store_result(store_result, test_data, model_name, threshold, classifier_df100)"
   ]
  },
  {
   "cell_type": "code",
   "execution_count": 36,
   "id": "d95e2ebd",
   "metadata": {},
   "outputs": [
    {
     "name": "stdout",
     "output_type": "stream",
     "text": [
      "[[58 44]\n",
      " [16  6]]\n"
     ]
    }
   ],
   "source": [
    "threshold = 5\n",
    "model_name = \"Model 8\"\n",
    "store_result = evaluate_and_store_result(store_result, test_data, model_name, threshold, classifier_df100)"
   ]
  },
  {
   "cell_type": "code",
   "execution_count": 37,
   "id": "c74315fc",
   "metadata": {},
   "outputs": [
    {
     "name": "stdout",
     "output_type": "stream",
     "text": [
      "[[ 8 94]\n",
      " [ 0 22]]\n"
     ]
    }
   ],
   "source": [
    "threshold = -3\n",
    "model_name = \"Model 9\"\n",
    "store_result = evaluate_and_store_result(store_result, test_data, model_name, threshold, classifier_df100)"
   ]
  },
  {
   "cell_type": "code",
   "execution_count": 38,
   "id": "98a6de12",
   "metadata": {},
   "outputs": [
    {
     "data": {
      "text/html": [
       "<div>\n",
       "<style scoped>\n",
       "    .dataframe tbody tr th:only-of-type {\n",
       "        vertical-align: middle;\n",
       "    }\n",
       "\n",
       "    .dataframe tbody tr th {\n",
       "        vertical-align: top;\n",
       "    }\n",
       "\n",
       "    .dataframe thead th {\n",
       "        text-align: right;\n",
       "    }\n",
       "</style>\n",
       "<table border=\"1\" class=\"dataframe\">\n",
       "  <thead>\n",
       "    <tr style=\"text-align: right;\">\n",
       "      <th></th>\n",
       "      <th>model</th>\n",
       "      <th>TN</th>\n",
       "      <th>FP</th>\n",
       "      <th>TP</th>\n",
       "      <th>FN</th>\n",
       "    </tr>\n",
       "  </thead>\n",
       "  <tbody>\n",
       "    <tr>\n",
       "      <th>0</th>\n",
       "      <td>Model 1</td>\n",
       "      <td>45</td>\n",
       "      <td>57</td>\n",
       "      <td>20</td>\n",
       "      <td>2</td>\n",
       "    </tr>\n",
       "    <tr>\n",
       "      <th>1</th>\n",
       "      <td>Model 2</td>\n",
       "      <td>81</td>\n",
       "      <td>21</td>\n",
       "      <td>9</td>\n",
       "      <td>13</td>\n",
       "    </tr>\n",
       "    <tr>\n",
       "      <th>2</th>\n",
       "      <td>Model 3</td>\n",
       "      <td>8</td>\n",
       "      <td>94</td>\n",
       "      <td>22</td>\n",
       "      <td>0</td>\n",
       "    </tr>\n",
       "    <tr>\n",
       "      <th>3</th>\n",
       "      <td>Model 4</td>\n",
       "      <td>24</td>\n",
       "      <td>78</td>\n",
       "      <td>20</td>\n",
       "      <td>2</td>\n",
       "    </tr>\n",
       "    <tr>\n",
       "      <th>4</th>\n",
       "      <td>Model 5</td>\n",
       "      <td>58</td>\n",
       "      <td>44</td>\n",
       "      <td>6</td>\n",
       "      <td>16</td>\n",
       "    </tr>\n",
       "    <tr>\n",
       "      <th>5</th>\n",
       "      <td>Model 6</td>\n",
       "      <td>8</td>\n",
       "      <td>94</td>\n",
       "      <td>22</td>\n",
       "      <td>0</td>\n",
       "    </tr>\n",
       "    <tr>\n",
       "      <th>6</th>\n",
       "      <td>Model 7</td>\n",
       "      <td>24</td>\n",
       "      <td>78</td>\n",
       "      <td>20</td>\n",
       "      <td>2</td>\n",
       "    </tr>\n",
       "    <tr>\n",
       "      <th>7</th>\n",
       "      <td>Model 8</td>\n",
       "      <td>58</td>\n",
       "      <td>44</td>\n",
       "      <td>6</td>\n",
       "      <td>16</td>\n",
       "    </tr>\n",
       "    <tr>\n",
       "      <th>8</th>\n",
       "      <td>Model 9</td>\n",
       "      <td>8</td>\n",
       "      <td>94</td>\n",
       "      <td>22</td>\n",
       "      <td>0</td>\n",
       "    </tr>\n",
       "  </tbody>\n",
       "</table>\n",
       "</div>"
      ],
      "text/plain": [
       "     model  TN  FP  TP  FN\n",
       "0  Model 1  45  57  20   2\n",
       "1  Model 2  81  21   9  13\n",
       "2  Model 3   8  94  22   0\n",
       "3  Model 4  24  78  20   2\n",
       "4  Model 5  58  44   6  16\n",
       "5  Model 6   8  94  22   0\n",
       "6  Model 7  24  78  20   2\n",
       "7  Model 8  58  44   6  16\n",
       "8  Model 9   8  94  22   0"
      ]
     },
     "execution_count": 38,
     "metadata": {},
     "output_type": "execute_result"
    }
   ],
   "source": [
    "store_result"
   ]
  },
  {
   "cell_type": "code",
   "execution_count": 40,
   "id": "1a83882e",
   "metadata": {
    "scrolled": true
   },
   "outputs": [
    {
     "name": "stdout",
     "output_type": "stream",
     "text": [
      "     model  TN  FP TP  FN Precision\n",
      "1  Model 2  81  21  9  13       0.3\n"
     ]
    }
   ],
   "source": [
    "store_result['Precision'] = store_result['TP'] / (store_result['TP'] + store_result['FP'])\n",
    "\n",
    "# Find the model with the highest precision\n",
    "best_model = store_result[store_result['Precision'] == store_result['Precision'].max()]\n",
    "\n",
    "print(best_model)"
   ]
  },
  {
   "cell_type": "markdown",
   "id": "b728ecd1",
   "metadata": {},
   "source": [
    "As mentioned earlier, in accordance with the precision metric, Model 2 outperformed others in classifying the test subset. The iteration count for this model was 10, and the threshold was set to 3."
   ]
  },
  {
   "cell_type": "code",
   "execution_count": 43,
   "id": "b0fed403",
   "metadata": {},
   "outputs": [],
   "source": [
    "def sum_classifier_votes_for_each_sample(dataset, df, classifier_df):\n",
    "    for i in range(len(dataset)):\n",
    "        classification_sum = np.float64(0)\n",
    "        neg_votes = np.float64(0)\n",
    "        pos_votes = np.float64(0)\n",
    "        for idx, thresh, feat, sign, alpha in classifier_df.itertuples(): \n",
    "            ht = np.sign(dataset[i,int(feat)] - thresh) * sign\n",
    "            classification_sum += alpha * ht\n",
    "            if ht < 0:\n",
    "                neg_votes += alpha * ht\n",
    "            else:\n",
    "                pos_votes += alpha * ht\n",
    " \n",
    "        df['sum_alpha'].iloc[i] = classification_sum\n",
    "        df['pos_votes'].iloc[i] = pos_votes\n",
    "        df['neg_votes'].iloc[i] = neg_votes\n",
    "    \n",
    "    return df"
   ]
  },
  {
   "cell_type": "code",
   "execution_count": 44,
   "id": "1ff94150",
   "metadata": {},
   "outputs": [],
   "source": [
    "test_set_x_df = pd.DataFrame(test_data)\n",
    "test_set_x_df = pd.DataFrame(test_data)\n",
    "test_set_x_df['sum_alpha'] = 0 \n",
    "test_set_x_df['pos_votes'] = 0 \n",
    "test_set_x_df['neg_votes'] = 0"
   ]
  },
  {
   "cell_type": "code",
   "execution_count": 45,
   "id": "f8e15ea1",
   "metadata": {},
   "outputs": [
    {
     "name": "stderr",
     "output_type": "stream",
     "text": [
      "/Users/robertoaltran/opt/anaconda3/lib/python3.9/site-packages/pandas/core/indexing.py:1732: SettingWithCopyWarning: \n",
      "A value is trying to be set on a copy of a slice from a DataFrame\n",
      "\n",
      "See the caveats in the documentation: https://pandas.pydata.org/pandas-docs/stable/user_guide/indexing.html#returning-a-view-versus-a-copy\n",
      "  self._setitem_single_block(indexer, value, name)\n"
     ]
    },
    {
     "data": {
      "text/html": [
       "<div>\n",
       "<style scoped>\n",
       "    .dataframe tbody tr th:only-of-type {\n",
       "        vertical-align: middle;\n",
       "    }\n",
       "\n",
       "    .dataframe tbody tr th {\n",
       "        vertical-align: top;\n",
       "    }\n",
       "\n",
       "    .dataframe thead th {\n",
       "        text-align: right;\n",
       "    }\n",
       "</style>\n",
       "<table border=\"1\" class=\"dataframe\">\n",
       "  <thead>\n",
       "    <tr style=\"text-align: right;\">\n",
       "      <th></th>\n",
       "      <th>0</th>\n",
       "      <th>1</th>\n",
       "      <th>2</th>\n",
       "      <th>3</th>\n",
       "      <th>4</th>\n",
       "      <th>5</th>\n",
       "      <th>6</th>\n",
       "      <th>7</th>\n",
       "      <th>8</th>\n",
       "      <th>9</th>\n",
       "      <th>...</th>\n",
       "      <th>51</th>\n",
       "      <th>52</th>\n",
       "      <th>53</th>\n",
       "      <th>54</th>\n",
       "      <th>55</th>\n",
       "      <th>56</th>\n",
       "      <th>57</th>\n",
       "      <th>sum_alpha</th>\n",
       "      <th>pos_votes</th>\n",
       "      <th>neg_votes</th>\n",
       "    </tr>\n",
       "  </thead>\n",
       "  <tbody>\n",
       "    <tr>\n",
       "      <th>0</th>\n",
       "      <td>67c8bfe99f1c</td>\n",
       "      <td>0.717864</td>\n",
       "      <td>7137.57341</td>\n",
       "      <td>115.376832</td>\n",
       "      <td>53.302467</td>\n",
       "      <td>8.138688</td>\n",
       "      <td>4.540237</td>\n",
       "      <td>0.025578</td>\n",
       "      <td>11.211258</td>\n",
       "      <td>119.908222</td>\n",
       "      <td>...</td>\n",
       "      <td>19.943488</td>\n",
       "      <td>174.626095</td>\n",
       "      <td>142.913889</td>\n",
       "      <td>24.78186</td>\n",
       "      <td>47.522844</td>\n",
       "      <td>0.092272</td>\n",
       "      <td>1.0</td>\n",
       "      <td>3.172464</td>\n",
       "      <td>5.389877</td>\n",
       "      <td>-2.217413</td>\n",
       "    </tr>\n",
       "    <tr>\n",
       "      <th>1</th>\n",
       "      <td>bbb1066a9afd</td>\n",
       "      <td>0.264926</td>\n",
       "      <td>1390.0359</td>\n",
       "      <td>85.200147</td>\n",
       "      <td>11.601362</td>\n",
       "      <td>10.217934</td>\n",
       "      <td>5.660901</td>\n",
       "      <td>0.074907</td>\n",
       "      <td>3.396778</td>\n",
       "      <td>3.113404</td>\n",
       "      <td>...</td>\n",
       "      <td>22.966638</td>\n",
       "      <td>72.611063</td>\n",
       "      <td>4646.471769</td>\n",
       "      <td>23.356717</td>\n",
       "      <td>46.537768</td>\n",
       "      <td>0.06245</td>\n",
       "      <td>1.0</td>\n",
       "      <td>3.172464</td>\n",
       "      <td>5.389877</td>\n",
       "      <td>-2.217413</td>\n",
       "    </tr>\n",
       "    <tr>\n",
       "      <th>2</th>\n",
       "      <td>8ba157c016ba</td>\n",
       "      <td>1.546826</td>\n",
       "      <td>5700.64154</td>\n",
       "      <td>85.200147</td>\n",
       "      <td>630.51823</td>\n",
       "      <td>16.70214</td>\n",
       "      <td>6.595525</td>\n",
       "      <td>0.025578</td>\n",
       "      <td>11.457036</td>\n",
       "      <td>34.725348</td>\n",
       "      <td>...</td>\n",
       "      <td>10.37173</td>\n",
       "      <td>72.611063</td>\n",
       "      <td>3840.41574</td>\n",
       "      <td>41.719852</td>\n",
       "      <td>75.870142</td>\n",
       "      <td>0.064367</td>\n",
       "      <td>1.0</td>\n",
       "      <td>1.451167</td>\n",
       "      <td>4.529229</td>\n",
       "      <td>-3.078062</td>\n",
       "    </tr>\n",
       "    <tr>\n",
       "      <th>3</th>\n",
       "      <td>49b8f248a42f</td>\n",
       "      <td>0.311929</td>\n",
       "      <td>2294.87753</td>\n",
       "      <td>85.200147</td>\n",
       "      <td>7.166458</td>\n",
       "      <td>8.138688</td>\n",
       "      <td>2.577969</td>\n",
       "      <td>0.030755</td>\n",
       "      <td>8.766082</td>\n",
       "      <td>1.2299</td>\n",
       "      <td>...</td>\n",
       "      <td>12.771646</td>\n",
       "      <td>72.611063</td>\n",
       "      <td>38476.24967</td>\n",
       "      <td>36.290913</td>\n",
       "      <td>15.506588</td>\n",
       "      <td>0.106388</td>\n",
       "      <td>1.0</td>\n",
       "      <td>3.172464</td>\n",
       "      <td>5.389877</td>\n",
       "      <td>-2.217413</td>\n",
       "    </tr>\n",
       "    <tr>\n",
       "      <th>4</th>\n",
       "      <td>667b389f278d</td>\n",
       "      <td>0.538398</td>\n",
       "      <td>4889.2833</td>\n",
       "      <td>108.548976</td>\n",
       "      <td>7.002317</td>\n",
       "      <td>8.138688</td>\n",
       "      <td>5.93553</td>\n",
       "      <td>0.07308</td>\n",
       "      <td>8.898424</td>\n",
       "      <td>14.259812</td>\n",
       "      <td>...</td>\n",
       "      <td>15.67387</td>\n",
       "      <td>72.611063</td>\n",
       "      <td>1180.078956</td>\n",
       "      <td>23.676723</td>\n",
       "      <td>9.444384</td>\n",
       "      <td>21.978</td>\n",
       "      <td>1.0</td>\n",
       "      <td>1.535714</td>\n",
       "      <td>4.571502</td>\n",
       "      <td>-3.035788</td>\n",
       "    </tr>\n",
       "    <tr>\n",
       "      <th>...</th>\n",
       "      <td>...</td>\n",
       "      <td>...</td>\n",
       "      <td>...</td>\n",
       "      <td>...</td>\n",
       "      <td>...</td>\n",
       "      <td>...</td>\n",
       "      <td>...</td>\n",
       "      <td>...</td>\n",
       "      <td>...</td>\n",
       "      <td>...</td>\n",
       "      <td>...</td>\n",
       "      <td>...</td>\n",
       "      <td>...</td>\n",
       "      <td>...</td>\n",
       "      <td>...</td>\n",
       "      <td>...</td>\n",
       "      <td>...</td>\n",
       "      <td>...</td>\n",
       "      <td>...</td>\n",
       "      <td>...</td>\n",
       "      <td>...</td>\n",
       "    </tr>\n",
       "    <tr>\n",
       "      <th>119</th>\n",
       "      <td>ffcca4ded3bb</td>\n",
       "      <td>0.482849</td>\n",
       "      <td>2672.53426</td>\n",
       "      <td>546.66393</td>\n",
       "      <td>112.006102</td>\n",
       "      <td>8.138688</td>\n",
       "      <td>3.198099</td>\n",
       "      <td>0.116928</td>\n",
       "      <td>3.396778</td>\n",
       "      <td>7.948668</td>\n",
       "      <td>...</td>\n",
       "      <td>13.67394</td>\n",
       "      <td>72.611063</td>\n",
       "      <td>6850.484442</td>\n",
       "      <td>45.745974</td>\n",
       "      <td>114.842372</td>\n",
       "      <td>21.978</td>\n",
       "      <td>-1.0</td>\n",
       "      <td>-0.185583</td>\n",
       "      <td>3.710854</td>\n",
       "      <td>-3.896437</td>\n",
       "    </tr>\n",
       "    <tr>\n",
       "      <th>120</th>\n",
       "      <td>43365f867d38</td>\n",
       "      <td>0.807597</td>\n",
       "      <td>2174.83464</td>\n",
       "      <td>89.768017</td>\n",
       "      <td>88.546327</td>\n",
       "      <td>17.90826</td>\n",
       "      <td>6.032979</td>\n",
       "      <td>0.236901</td>\n",
       "      <td>13.848645</td>\n",
       "      <td>11.416986</td>\n",
       "      <td>...</td>\n",
       "      <td>23.129423</td>\n",
       "      <td>72.611063</td>\n",
       "      <td>31771.62938</td>\n",
       "      <td>19.196639</td>\n",
       "      <td>49.019748</td>\n",
       "      <td>21.978</td>\n",
       "      <td>-1.0</td>\n",
       "      <td>-0.185583</td>\n",
       "      <td>3.710854</td>\n",
       "      <td>-3.896437</td>\n",
       "    </tr>\n",
       "    <tr>\n",
       "      <th>121</th>\n",
       "      <td>948043d08210</td>\n",
       "      <td>0.371751</td>\n",
       "      <td>4074.22488</td>\n",
       "      <td>175.895673</td>\n",
       "      <td>25.200289</td>\n",
       "      <td>8.138688</td>\n",
       "      <td>6.883443</td>\n",
       "      <td>0.025578</td>\n",
       "      <td>10.946574</td>\n",
       "      <td>1.2299</td>\n",
       "      <td>...</td>\n",
       "      <td>9.218282</td>\n",
       "      <td>601.215538</td>\n",
       "      <td>38469.54433</td>\n",
       "      <td>39.379343</td>\n",
       "      <td>93.718536</td>\n",
       "      <td>21.978</td>\n",
       "      <td>-1.0</td>\n",
       "      <td>-0.185583</td>\n",
       "      <td>3.710854</td>\n",
       "      <td>-3.896437</td>\n",
       "    </tr>\n",
       "    <tr>\n",
       "      <th>122</th>\n",
       "      <td>508bb5c5cf00</td>\n",
       "      <td>0.260653</td>\n",
       "      <td>1642.84362</td>\n",
       "      <td>85.200147</td>\n",
       "      <td>8.433131</td>\n",
       "      <td>8.138688</td>\n",
       "      <td>3.401856</td>\n",
       "      <td>0.025578</td>\n",
       "      <td>15.049176</td>\n",
       "      <td>1.2299</td>\n",
       "      <td>...</td>\n",
       "      <td>18.752832</td>\n",
       "      <td>72.611063</td>\n",
       "      <td>17089.96158</td>\n",
       "      <td>31.301052</td>\n",
       "      <td>99.430948</td>\n",
       "      <td>21.978</td>\n",
       "      <td>-1.0</td>\n",
       "      <td>-0.185583</td>\n",
       "      <td>3.710854</td>\n",
       "      <td>-3.896437</td>\n",
       "    </tr>\n",
       "    <tr>\n",
       "      <th>123</th>\n",
       "      <td>e9d084428900</td>\n",
       "      <td>0.290564</td>\n",
       "      <td>6640.63246</td>\n",
       "      <td>157.214868</td>\n",
       "      <td>107.58978</td>\n",
       "      <td>8.138688</td>\n",
       "      <td>4.146012</td>\n",
       "      <td>0.025578</td>\n",
       "      <td>10.68189</td>\n",
       "      <td>11.13938</td>\n",
       "      <td>...</td>\n",
       "      <td>11.804238</td>\n",
       "      <td>72.611063</td>\n",
       "      <td>3012.793704</td>\n",
       "      <td>26.910272</td>\n",
       "      <td>93.052388</td>\n",
       "      <td>0.080542</td>\n",
       "      <td>-1.0</td>\n",
       "      <td>1.451167</td>\n",
       "      <td>4.529229</td>\n",
       "      <td>-3.078062</td>\n",
       "    </tr>\n",
       "  </tbody>\n",
       "</table>\n",
       "<p>124 rows × 61 columns</p>\n",
       "</div>"
      ],
      "text/plain": [
       "                0         1           2           3           4          5  \\\n",
       "0    67c8bfe99f1c  0.717864  7137.57341  115.376832   53.302467   8.138688   \n",
       "1    bbb1066a9afd  0.264926   1390.0359   85.200147   11.601362  10.217934   \n",
       "2    8ba157c016ba  1.546826  5700.64154   85.200147   630.51823   16.70214   \n",
       "3    49b8f248a42f  0.311929  2294.87753   85.200147    7.166458   8.138688   \n",
       "4    667b389f278d  0.538398   4889.2833  108.548976    7.002317   8.138688   \n",
       "..            ...       ...         ...         ...         ...        ...   \n",
       "119  ffcca4ded3bb  0.482849  2672.53426   546.66393  112.006102   8.138688   \n",
       "120  43365f867d38  0.807597  2174.83464   89.768017   88.546327   17.90826   \n",
       "121  948043d08210  0.371751  4074.22488  175.895673   25.200289   8.138688   \n",
       "122  508bb5c5cf00  0.260653  1642.84362   85.200147    8.433131   8.138688   \n",
       "123  e9d084428900  0.290564  6640.63246  157.214868   107.58978   8.138688   \n",
       "\n",
       "            6         7          8           9  ...         51          52  \\\n",
       "0    4.540237  0.025578  11.211258  119.908222  ...  19.943488  174.626095   \n",
       "1    5.660901  0.074907   3.396778    3.113404  ...  22.966638   72.611063   \n",
       "2    6.595525  0.025578  11.457036   34.725348  ...   10.37173   72.611063   \n",
       "3    2.577969  0.030755   8.766082      1.2299  ...  12.771646   72.611063   \n",
       "4     5.93553   0.07308   8.898424   14.259812  ...   15.67387   72.611063   \n",
       "..        ...       ...        ...         ...  ...        ...         ...   \n",
       "119  3.198099  0.116928   3.396778    7.948668  ...   13.67394   72.611063   \n",
       "120  6.032979  0.236901  13.848645   11.416986  ...  23.129423   72.611063   \n",
       "121  6.883443  0.025578  10.946574      1.2299  ...   9.218282  601.215538   \n",
       "122  3.401856  0.025578  15.049176      1.2299  ...  18.752832   72.611063   \n",
       "123  4.146012  0.025578   10.68189    11.13938  ...  11.804238   72.611063   \n",
       "\n",
       "              53         54          55        56   57 sum_alpha pos_votes  \\\n",
       "0     142.913889   24.78186   47.522844  0.092272  1.0  3.172464  5.389877   \n",
       "1    4646.471769  23.356717   46.537768   0.06245  1.0  3.172464  5.389877   \n",
       "2     3840.41574  41.719852   75.870142  0.064367  1.0  1.451167  4.529229   \n",
       "3    38476.24967  36.290913   15.506588  0.106388  1.0  3.172464  5.389877   \n",
       "4    1180.078956  23.676723    9.444384    21.978  1.0  1.535714  4.571502   \n",
       "..           ...        ...         ...       ...  ...       ...       ...   \n",
       "119  6850.484442  45.745974  114.842372    21.978 -1.0 -0.185583  3.710854   \n",
       "120  31771.62938  19.196639   49.019748    21.978 -1.0 -0.185583  3.710854   \n",
       "121  38469.54433  39.379343   93.718536    21.978 -1.0 -0.185583  3.710854   \n",
       "122  17089.96158  31.301052   99.430948    21.978 -1.0 -0.185583  3.710854   \n",
       "123  3012.793704  26.910272   93.052388  0.080542 -1.0  1.451167  4.529229   \n",
       "\n",
       "    neg_votes  \n",
       "0   -2.217413  \n",
       "1   -2.217413  \n",
       "2   -3.078062  \n",
       "3   -2.217413  \n",
       "4   -3.035788  \n",
       "..        ...  \n",
       "119 -3.896437  \n",
       "120 -3.896437  \n",
       "121 -3.896437  \n",
       "122 -3.896437  \n",
       "123 -3.078062  \n",
       "\n",
       "[124 rows x 61 columns]"
      ]
     },
     "execution_count": 45,
     "metadata": {},
     "output_type": "execute_result"
    }
   ],
   "source": [
    "sum_classifier_votes_for_each_sample(test_data, test_set_x_df, classifier_df10)"
   ]
  },
  {
   "cell_type": "code",
   "execution_count": 46,
   "id": "5bcf5606",
   "metadata": {
    "scrolled": true
   },
   "outputs": [
    {
     "data": {
      "image/png": "[encoded data removed]",
      "text/plain": [
       "<Figure size 1440x1080 with 1 Axes>"
      ]
     },
     "metadata": {
      "needs_background": "light"
     },
     "output_type": "display_data"
    }
   ],
   "source": [
    "rcParams['figure.figsize'] = 20, 15\n",
    "for i in range(len(test_data)):\n",
    "    plt.plot([test_data[i,0]],[test_data[i,1]], 'ko', markersize=(np.abs(test_set_x_df.sum_alpha.iloc[i])*12) )"
   ]
  },
  {
   "cell_type": "markdown",
   "id": "9a6daa2b",
   "metadata": {},
   "source": [
    "This plot shows the confidence with which the classifier is applied to each sample. It appears that the classifier is not very confident, as generally, the balls are small."
   ]
  },
  {
   "cell_type": "code",
   "execution_count": 47,
   "id": "c8ca1e9a",
   "metadata": {},
   "outputs": [],
   "source": [
    "def margin_calculation(sign, pos, neg, tot_votes):   \n",
    "    if np.sign(sign) < 0:\n",
    "        return np.abs(neg) / tot_votes\n",
    "    else:\n",
    "        return pos / tot_votes"
   ]
  },
  {
   "cell_type": "code",
   "execution_count": null,
   "id": "33a912eb",
   "metadata": {},
   "outputs": [],
   "source": []
  },
  {
   "cell_type": "code",
   "execution_count": 48,
   "id": "0bee8e1a",
   "metadata": {},
   "outputs": [],
   "source": [
    "total_alpha_votes = np.sum(classifier_df10.alpha)\n"
   ]
  },
  {
   "cell_type": "code",
   "execution_count": 55,
   "id": "0a5e6dab",
   "metadata": {},
   "outputs": [
    {
     "data": {
      "text/html": [
       "<div>\n",
       "<style scoped>\n",
       "    .dataframe tbody tr th:only-of-type {\n",
       "        vertical-align: middle;\n",
       "    }\n",
       "\n",
       "    .dataframe tbody tr th {\n",
       "        vertical-align: top;\n",
       "    }\n",
       "\n",
       "    .dataframe thead th {\n",
       "        text-align: right;\n",
       "    }\n",
       "</style>\n",
       "<table border=\"1\" class=\"dataframe\">\n",
       "  <thead>\n",
       "    <tr style=\"text-align: right;\">\n",
       "      <th></th>\n",
       "      <th>0</th>\n",
       "      <th>1</th>\n",
       "      <th>2</th>\n",
       "      <th>3</th>\n",
       "      <th>4</th>\n",
       "      <th>5</th>\n",
       "      <th>6</th>\n",
       "      <th>7</th>\n",
       "      <th>8</th>\n",
       "      <th>9</th>\n",
       "      <th>...</th>\n",
       "      <th>53</th>\n",
       "      <th>54</th>\n",
       "      <th>55</th>\n",
       "      <th>56</th>\n",
       "      <th>57</th>\n",
       "      <th>sum_alpha</th>\n",
       "      <th>pos_votes</th>\n",
       "      <th>neg_votes</th>\n",
       "      <th>total_alpha_votes</th>\n",
       "      <th>margin</th>\n",
       "    </tr>\n",
       "  </thead>\n",
       "  <tbody>\n",
       "    <tr>\n",
       "      <th>0</th>\n",
       "      <td>67c8bfe99f1c</td>\n",
       "      <td>0.717864</td>\n",
       "      <td>7137.57341</td>\n",
       "      <td>115.376832</td>\n",
       "      <td>53.302467</td>\n",
       "      <td>8.138688</td>\n",
       "      <td>4.540237</td>\n",
       "      <td>0.025578</td>\n",
       "      <td>11.211258</td>\n",
       "      <td>119.908222</td>\n",
       "      <td>...</td>\n",
       "      <td>142.913889</td>\n",
       "      <td>24.78186</td>\n",
       "      <td>47.522844</td>\n",
       "      <td>0.092272</td>\n",
       "      <td>1.0</td>\n",
       "      <td>3.172464</td>\n",
       "      <td>5.389877</td>\n",
       "      <td>-2.217413</td>\n",
       "      <td>7.60729</td>\n",
       "      <td>0.708515</td>\n",
       "    </tr>\n",
       "    <tr>\n",
       "      <th>1</th>\n",
       "      <td>bbb1066a9afd</td>\n",
       "      <td>0.264926</td>\n",
       "      <td>1390.0359</td>\n",
       "      <td>85.200147</td>\n",
       "      <td>11.601362</td>\n",
       "      <td>10.217934</td>\n",
       "      <td>5.660901</td>\n",
       "      <td>0.074907</td>\n",
       "      <td>3.396778</td>\n",
       "      <td>3.113404</td>\n",
       "      <td>...</td>\n",
       "      <td>4646.471769</td>\n",
       "      <td>23.356717</td>\n",
       "      <td>46.537768</td>\n",
       "      <td>0.06245</td>\n",
       "      <td>1.0</td>\n",
       "      <td>3.172464</td>\n",
       "      <td>5.389877</td>\n",
       "      <td>-2.217413</td>\n",
       "      <td>7.60729</td>\n",
       "      <td>0.708515</td>\n",
       "    </tr>\n",
       "    <tr>\n",
       "      <th>2</th>\n",
       "      <td>8ba157c016ba</td>\n",
       "      <td>1.546826</td>\n",
       "      <td>5700.64154</td>\n",
       "      <td>85.200147</td>\n",
       "      <td>630.51823</td>\n",
       "      <td>16.70214</td>\n",
       "      <td>6.595525</td>\n",
       "      <td>0.025578</td>\n",
       "      <td>11.457036</td>\n",
       "      <td>34.725348</td>\n",
       "      <td>...</td>\n",
       "      <td>3840.41574</td>\n",
       "      <td>41.719852</td>\n",
       "      <td>75.870142</td>\n",
       "      <td>0.064367</td>\n",
       "      <td>1.0</td>\n",
       "      <td>1.451167</td>\n",
       "      <td>4.529229</td>\n",
       "      <td>-3.078062</td>\n",
       "      <td>7.60729</td>\n",
       "      <td>0.595380</td>\n",
       "    </tr>\n",
       "    <tr>\n",
       "      <th>3</th>\n",
       "      <td>49b8f248a42f</td>\n",
       "      <td>0.311929</td>\n",
       "      <td>2294.87753</td>\n",
       "      <td>85.200147</td>\n",
       "      <td>7.166458</td>\n",
       "      <td>8.138688</td>\n",
       "      <td>2.577969</td>\n",
       "      <td>0.030755</td>\n",
       "      <td>8.766082</td>\n",
       "      <td>1.2299</td>\n",
       "      <td>...</td>\n",
       "      <td>38476.24967</td>\n",
       "      <td>36.290913</td>\n",
       "      <td>15.506588</td>\n",
       "      <td>0.106388</td>\n",
       "      <td>1.0</td>\n",
       "      <td>3.172464</td>\n",
       "      <td>5.389877</td>\n",
       "      <td>-2.217413</td>\n",
       "      <td>7.60729</td>\n",
       "      <td>0.708515</td>\n",
       "    </tr>\n",
       "    <tr>\n",
       "      <th>4</th>\n",
       "      <td>667b389f278d</td>\n",
       "      <td>0.538398</td>\n",
       "      <td>4889.2833</td>\n",
       "      <td>108.548976</td>\n",
       "      <td>7.002317</td>\n",
       "      <td>8.138688</td>\n",
       "      <td>5.93553</td>\n",
       "      <td>0.07308</td>\n",
       "      <td>8.898424</td>\n",
       "      <td>14.259812</td>\n",
       "      <td>...</td>\n",
       "      <td>1180.078956</td>\n",
       "      <td>23.676723</td>\n",
       "      <td>9.444384</td>\n",
       "      <td>21.978</td>\n",
       "      <td>1.0</td>\n",
       "      <td>1.535714</td>\n",
       "      <td>4.571502</td>\n",
       "      <td>-3.035788</td>\n",
       "      <td>7.60729</td>\n",
       "      <td>0.600937</td>\n",
       "    </tr>\n",
       "  </tbody>\n",
       "</table>\n",
       "<p>5 rows × 63 columns</p>\n",
       "</div>"
      ],
      "text/plain": [
       "              0         1           2           3          4          5  \\\n",
       "0  67c8bfe99f1c  0.717864  7137.57341  115.376832  53.302467   8.138688   \n",
       "1  bbb1066a9afd  0.264926   1390.0359   85.200147  11.601362  10.217934   \n",
       "2  8ba157c016ba  1.546826  5700.64154   85.200147  630.51823   16.70214   \n",
       "3  49b8f248a42f  0.311929  2294.87753   85.200147   7.166458   8.138688   \n",
       "4  667b389f278d  0.538398   4889.2833  108.548976   7.002317   8.138688   \n",
       "\n",
       "          6         7          8           9  ...           53         54  \\\n",
       "0  4.540237  0.025578  11.211258  119.908222  ...   142.913889   24.78186   \n",
       "1  5.660901  0.074907   3.396778    3.113404  ...  4646.471769  23.356717   \n",
       "2  6.595525  0.025578  11.457036   34.725348  ...   3840.41574  41.719852   \n",
       "3  2.577969  0.030755   8.766082      1.2299  ...  38476.24967  36.290913   \n",
       "4   5.93553   0.07308   8.898424   14.259812  ...  1180.078956  23.676723   \n",
       "\n",
       "          55        56   57 sum_alpha pos_votes neg_votes total_alpha_votes  \\\n",
       "0  47.522844  0.092272  1.0  3.172464  5.389877 -2.217413           7.60729   \n",
       "1  46.537768   0.06245  1.0  3.172464  5.389877 -2.217413           7.60729   \n",
       "2  75.870142  0.064367  1.0  1.451167  4.529229 -3.078062           7.60729   \n",
       "3  15.506588  0.106388  1.0  3.172464  5.389877 -2.217413           7.60729   \n",
       "4   9.444384    21.978  1.0  1.535714  4.571502 -3.035788           7.60729   \n",
       "\n",
       "     margin  \n",
       "0  0.708515  \n",
       "1  0.708515  \n",
       "2  0.595380  \n",
       "3  0.708515  \n",
       "4  0.600937  \n",
       "\n",
       "[5 rows x 63 columns]"
      ]
     },
     "execution_count": 55,
     "metadata": {},
     "output_type": "execute_result"
    }
   ],
   "source": [
    "test_set_x_df['total_alpha_votes'] = total_alpha_votes\n",
    "test_set_x_df['margin'] = test_set_x_df[['sum_alpha','pos_votes','neg_votes','total_alpha_votes']].apply(lambda x: margin_calculation(*x), axis=1)\n",
    "test_set_x_df.head()"
   ]
  },
  {
   "cell_type": "code",
   "execution_count": 56,
   "id": "8dd287ca",
   "metadata": {},
   "outputs": [],
   "source": [
    "def margin_calculation_for_training_samples(sign, pos, neg, tot_votes ):  \n",
    "    if np.sign(sign) < 0:\n",
    "        return np.abs(neg) / tot_votes, -1\n",
    "    else:\n",
    "        return pos / tot_votes, 1"
   ]
  },
  {
   "cell_type": "code",
   "execution_count": 69,
   "id": "68eae6fe",
   "metadata": {},
   "outputs": [
    {
     "name": "stderr",
     "output_type": "stream",
     "text": [
      "/Users/robertoaltran/opt/anaconda3/lib/python3.9/site-packages/pandas/core/indexing.py:1732: SettingWithCopyWarning: \n",
      "A value is trying to be set on a copy of a slice from a DataFrame\n",
      "\n",
      "See the caveats in the documentation: https://pandas.pydata.org/pandas-docs/stable/user_guide/indexing.html#returning-a-view-versus-a-copy\n",
      "  self._setitem_single_block(indexer, value, name)\n"
     ]
    }
   ],
   "source": [
    "\n",
    "training_set_x_df = pd.DataFrame(x)\n",
    "training_set_x_df['sum_alpha'] = 0 \n",
    "training_set_x_df['pos_votes'] = 0 \n",
    "training_set_x_df['neg_votes'] = 0 \n",
    "\n",
    "training_set_x_df = sum_classifier_votes_for_each_sample(x, training_set_x_df, classifier_df10)"
   ]
  },
  {
   "cell_type": "code",
   "execution_count": 71,
   "id": "930187eb",
   "metadata": {},
   "outputs": [
    {
     "data": {
      "text/html": [
       "<div>\n",
       "<style scoped>\n",
       "    .dataframe tbody tr th:only-of-type {\n",
       "        vertical-align: middle;\n",
       "    }\n",
       "\n",
       "    .dataframe tbody tr th {\n",
       "        vertical-align: top;\n",
       "    }\n",
       "\n",
       "    .dataframe thead th {\n",
       "        text-align: right;\n",
       "    }\n",
       "</style>\n",
       "<table border=\"1\" class=\"dataframe\">\n",
       "  <thead>\n",
       "    <tr style=\"text-align: right;\">\n",
       "      <th></th>\n",
       "      <th>0</th>\n",
       "      <th>1</th>\n",
       "      <th>2</th>\n",
       "      <th>3</th>\n",
       "      <th>4</th>\n",
       "      <th>5</th>\n",
       "      <th>6</th>\n",
       "      <th>7</th>\n",
       "      <th>8</th>\n",
       "      <th>9</th>\n",
       "      <th>...</th>\n",
       "      <th>53</th>\n",
       "      <th>54</th>\n",
       "      <th>55</th>\n",
       "      <th>sum_alpha</th>\n",
       "      <th>pos_votes</th>\n",
       "      <th>neg_votes</th>\n",
       "      <th>classification</th>\n",
       "      <th>margin</th>\n",
       "      <th>total_alpha_votes</th>\n",
       "      <th>true_class_label</th>\n",
       "    </tr>\n",
       "  </thead>\n",
       "  <tbody>\n",
       "    <tr>\n",
       "      <th>0</th>\n",
       "      <td>0.585401</td>\n",
       "      <td>2830.23235</td>\n",
       "      <td>85.200147</td>\n",
       "      <td>14.407244</td>\n",
       "      <td>8.138688</td>\n",
       "      <td>4.305474</td>\n",
       "      <td>0.038976</td>\n",
       "      <td>9.919348</td>\n",
       "      <td>1.229900</td>\n",
       "      <td>5865.79458</td>\n",
       "      <td>...</td>\n",
       "      <td>28.934496</td>\n",
       "      <td>31.175212</td>\n",
       "      <td>0.091696</td>\n",
       "      <td>-1.372956</td>\n",
       "      <td>1.732924</td>\n",
       "      <td>-3.105880</td>\n",
       "      <td>-1</td>\n",
       "      <td>0.408277</td>\n",
       "      <td>7.60729</td>\n",
       "      <td>1.0</td>\n",
       "    </tr>\n",
       "    <tr>\n",
       "      <th>1</th>\n",
       "      <td>1.546826</td>\n",
       "      <td>1766.78392</td>\n",
       "      <td>93.874311</td>\n",
       "      <td>23.949101</td>\n",
       "      <td>19.675488</td>\n",
       "      <td>8.136992</td>\n",
       "      <td>0.025578</td>\n",
       "      <td>14.292936</td>\n",
       "      <td>16.023840</td>\n",
       "      <td>3362.14406</td>\n",
       "      <td>...</td>\n",
       "      <td>31.587569</td>\n",
       "      <td>32.520368</td>\n",
       "      <td>21.978000</td>\n",
       "      <td>0.387696</td>\n",
       "      <td>3.567169</td>\n",
       "      <td>-3.179473</td>\n",
       "      <td>1</td>\n",
       "      <td>0.468915</td>\n",
       "      <td>7.60729</td>\n",
       "      <td>1.0</td>\n",
       "    </tr>\n",
       "    <tr>\n",
       "      <th>2</th>\n",
       "      <td>0.235015</td>\n",
       "      <td>1608.60062</td>\n",
       "      <td>122.518212</td>\n",
       "      <td>12.041136</td>\n",
       "      <td>8.138688</td>\n",
       "      <td>8.371755</td>\n",
       "      <td>0.025578</td>\n",
       "      <td>6.743140</td>\n",
       "      <td>1.229900</td>\n",
       "      <td>5970.51951</td>\n",
       "      <td>...</td>\n",
       "      <td>25.566991</td>\n",
       "      <td>56.789760</td>\n",
       "      <td>0.069709</td>\n",
       "      <td>-2.954069</td>\n",
       "      <td>0.942368</td>\n",
       "      <td>-3.896437</td>\n",
       "      <td>-1</td>\n",
       "      <td>0.512198</td>\n",
       "      <td>7.60729</td>\n",
       "      <td>1.0</td>\n",
       "    </tr>\n",
       "    <tr>\n",
       "      <th>3</th>\n",
       "      <td>0.132463</td>\n",
       "      <td>1777.81186</td>\n",
       "      <td>85.200147</td>\n",
       "      <td>18.591291</td>\n",
       "      <td>8.138688</td>\n",
       "      <td>4.544667</td>\n",
       "      <td>0.115710</td>\n",
       "      <td>9.856328</td>\n",
       "      <td>8.531992</td>\n",
       "      <td>4298.32437</td>\n",
       "      <td>...</td>\n",
       "      <td>29.116825</td>\n",
       "      <td>21.291016</td>\n",
       "      <td>21.978000</td>\n",
       "      <td>-4.204958</td>\n",
       "      <td>0.633846</td>\n",
       "      <td>-4.838804</td>\n",
       "      <td>-1</td>\n",
       "      <td>0.636075</td>\n",
       "      <td>7.60729</td>\n",
       "      <td>1.0</td>\n",
       "    </tr>\n",
       "    <tr>\n",
       "      <th>4</th>\n",
       "      <td>0.726410</td>\n",
       "      <td>7720.75106</td>\n",
       "      <td>85.200147</td>\n",
       "      <td>32.595925</td>\n",
       "      <td>8.138688</td>\n",
       "      <td>7.042905</td>\n",
       "      <td>0.025578</td>\n",
       "      <td>11.305788</td>\n",
       "      <td>3.833774</td>\n",
       "      <td>3247.43962</td>\n",
       "      <td>...</td>\n",
       "      <td>29.898235</td>\n",
       "      <td>10.190264</td>\n",
       "      <td>0.594000</td>\n",
       "      <td>0.273480</td>\n",
       "      <td>3.623462</td>\n",
       "      <td>-3.349982</td>\n",
       "      <td>1</td>\n",
       "      <td>0.476314</td>\n",
       "      <td>7.60729</td>\n",
       "      <td>1.0</td>\n",
       "    </tr>\n",
       "  </tbody>\n",
       "</table>\n",
       "<p>5 rows × 63 columns</p>\n",
       "</div>"
      ],
      "text/plain": [
       "          0           1           2          3          4         5         6  \\\n",
       "0  0.585401  2830.23235   85.200147  14.407244   8.138688  4.305474  0.038976   \n",
       "1  1.546826  1766.78392   93.874311  23.949101  19.675488  8.136992  0.025578   \n",
       "2  0.235015  1608.60062  122.518212  12.041136   8.138688  8.371755  0.025578   \n",
       "3  0.132463  1777.81186   85.200147  18.591291   8.138688  4.544667  0.115710   \n",
       "4  0.726410  7720.75106   85.200147  32.595925   8.138688  7.042905  0.025578   \n",
       "\n",
       "           7          8           9  ...         53         54         55  \\\n",
       "0   9.919348   1.229900  5865.79458  ...  28.934496  31.175212   0.091696   \n",
       "1  14.292936  16.023840  3362.14406  ...  31.587569  32.520368  21.978000   \n",
       "2   6.743140   1.229900  5970.51951  ...  25.566991  56.789760   0.069709   \n",
       "3   9.856328   8.531992  4298.32437  ...  29.116825  21.291016  21.978000   \n",
       "4  11.305788   3.833774  3247.43962  ...  29.898235  10.190264   0.594000   \n",
       "\n",
       "   sum_alpha  pos_votes  neg_votes  classification    margin  \\\n",
       "0  -1.372956   1.732924  -3.105880              -1  0.408277   \n",
       "1   0.387696   3.567169  -3.179473               1  0.468915   \n",
       "2  -2.954069   0.942368  -3.896437              -1  0.512198   \n",
       "3  -4.204958   0.633846  -4.838804              -1  0.636075   \n",
       "4   0.273480   3.623462  -3.349982               1  0.476314   \n",
       "\n",
       "   total_alpha_votes  true_class_label  \n",
       "0            7.60729               1.0  \n",
       "1            7.60729               1.0  \n",
       "2            7.60729               1.0  \n",
       "3            7.60729               1.0  \n",
       "4            7.60729               1.0  \n",
       "\n",
       "[5 rows x 63 columns]"
      ]
     },
     "execution_count": 71,
     "metadata": {},
     "output_type": "execute_result"
    }
   ],
   "source": [
    "training_set_x_df['classification'] = 0\n",
    "training_set_x_df['margin'] = 0\n",
    "training_set_x_df['total_alpha_votes'] = total_alpha_votes\n",
    "result = training_set_x_df[['sum_alpha','pos_votes','neg_votes','total_alpha_votes']].apply(lambda x: margin_calculation_for_training_samples(*x), axis=1)\n",
    "training_set_x_df['margin'] = result.apply(lambda x: x[0])\n",
    "training_set_x_df['classification'] = result.apply(lambda x: x[1])\n",
    "training_set_x_df['true_class_label'] = label\n",
    "training_set_x_df.head()"
   ]
  },
  {
   "cell_type": "code",
   "execution_count": 72,
   "id": "94b351f3",
   "metadata": {},
   "outputs": [],
   "source": [
    "def sign_of_margin(margin, classification, true_class_label):\n",
    " \n",
    "    return margin * classification * true_class_label\n",
    "    "
   ]
  },
  {
   "cell_type": "code",
   "execution_count": 73,
   "id": "b7144e87",
   "metadata": {
    "scrolled": true
   },
   "outputs": [
    {
     "data": {
      "text/html": [
       "<div>\n",
       "<style scoped>\n",
       "    .dataframe tbody tr th:only-of-type {\n",
       "        vertical-align: middle;\n",
       "    }\n",
       "\n",
       "    .dataframe tbody tr th {\n",
       "        vertical-align: top;\n",
       "    }\n",
       "\n",
       "    .dataframe thead th {\n",
       "        text-align: right;\n",
       "    }\n",
       "</style>\n",
       "<table border=\"1\" class=\"dataframe\">\n",
       "  <thead>\n",
       "    <tr style=\"text-align: right;\">\n",
       "      <th></th>\n",
       "      <th>0</th>\n",
       "      <th>1</th>\n",
       "      <th>2</th>\n",
       "      <th>3</th>\n",
       "      <th>4</th>\n",
       "      <th>5</th>\n",
       "      <th>6</th>\n",
       "      <th>7</th>\n",
       "      <th>8</th>\n",
       "      <th>9</th>\n",
       "      <th>...</th>\n",
       "      <th>54</th>\n",
       "      <th>55</th>\n",
       "      <th>sum_alpha</th>\n",
       "      <th>pos_votes</th>\n",
       "      <th>neg_votes</th>\n",
       "      <th>classification</th>\n",
       "      <th>margin</th>\n",
       "      <th>total_alpha_votes</th>\n",
       "      <th>true_class_label</th>\n",
       "      <th>sign_of_margin</th>\n",
       "    </tr>\n",
       "  </thead>\n",
       "  <tbody>\n",
       "    <tr>\n",
       "      <th>0</th>\n",
       "      <td>0.585401</td>\n",
       "      <td>2830.23235</td>\n",
       "      <td>85.200147</td>\n",
       "      <td>14.407244</td>\n",
       "      <td>8.138688</td>\n",
       "      <td>4.305474</td>\n",
       "      <td>0.038976</td>\n",
       "      <td>9.919348</td>\n",
       "      <td>1.229900</td>\n",
       "      <td>5865.79458</td>\n",
       "      <td>...</td>\n",
       "      <td>31.175212</td>\n",
       "      <td>0.091696</td>\n",
       "      <td>-1.372956</td>\n",
       "      <td>1.732924</td>\n",
       "      <td>-3.105880</td>\n",
       "      <td>-1</td>\n",
       "      <td>0.408277</td>\n",
       "      <td>7.60729</td>\n",
       "      <td>1.0</td>\n",
       "      <td>-0.408277</td>\n",
       "    </tr>\n",
       "    <tr>\n",
       "      <th>1</th>\n",
       "      <td>1.546826</td>\n",
       "      <td>1766.78392</td>\n",
       "      <td>93.874311</td>\n",
       "      <td>23.949101</td>\n",
       "      <td>19.675488</td>\n",
       "      <td>8.136992</td>\n",
       "      <td>0.025578</td>\n",
       "      <td>14.292936</td>\n",
       "      <td>16.023840</td>\n",
       "      <td>3362.14406</td>\n",
       "      <td>...</td>\n",
       "      <td>32.520368</td>\n",
       "      <td>21.978000</td>\n",
       "      <td>0.387696</td>\n",
       "      <td>3.567169</td>\n",
       "      <td>-3.179473</td>\n",
       "      <td>1</td>\n",
       "      <td>0.468915</td>\n",
       "      <td>7.60729</td>\n",
       "      <td>1.0</td>\n",
       "      <td>0.468915</td>\n",
       "    </tr>\n",
       "    <tr>\n",
       "      <th>2</th>\n",
       "      <td>0.235015</td>\n",
       "      <td>1608.60062</td>\n",
       "      <td>122.518212</td>\n",
       "      <td>12.041136</td>\n",
       "      <td>8.138688</td>\n",
       "      <td>8.371755</td>\n",
       "      <td>0.025578</td>\n",
       "      <td>6.743140</td>\n",
       "      <td>1.229900</td>\n",
       "      <td>5970.51951</td>\n",
       "      <td>...</td>\n",
       "      <td>56.789760</td>\n",
       "      <td>0.069709</td>\n",
       "      <td>-2.954069</td>\n",
       "      <td>0.942368</td>\n",
       "      <td>-3.896437</td>\n",
       "      <td>-1</td>\n",
       "      <td>0.512198</td>\n",
       "      <td>7.60729</td>\n",
       "      <td>1.0</td>\n",
       "      <td>-0.512198</td>\n",
       "    </tr>\n",
       "    <tr>\n",
       "      <th>3</th>\n",
       "      <td>0.132463</td>\n",
       "      <td>1777.81186</td>\n",
       "      <td>85.200147</td>\n",
       "      <td>18.591291</td>\n",
       "      <td>8.138688</td>\n",
       "      <td>4.544667</td>\n",
       "      <td>0.115710</td>\n",
       "      <td>9.856328</td>\n",
       "      <td>8.531992</td>\n",
       "      <td>4298.32437</td>\n",
       "      <td>...</td>\n",
       "      <td>21.291016</td>\n",
       "      <td>21.978000</td>\n",
       "      <td>-4.204958</td>\n",
       "      <td>0.633846</td>\n",
       "      <td>-4.838804</td>\n",
       "      <td>-1</td>\n",
       "      <td>0.636075</td>\n",
       "      <td>7.60729</td>\n",
       "      <td>1.0</td>\n",
       "      <td>-0.636075</td>\n",
       "    </tr>\n",
       "    <tr>\n",
       "      <th>4</th>\n",
       "      <td>0.726410</td>\n",
       "      <td>7720.75106</td>\n",
       "      <td>85.200147</td>\n",
       "      <td>32.595925</td>\n",
       "      <td>8.138688</td>\n",
       "      <td>7.042905</td>\n",
       "      <td>0.025578</td>\n",
       "      <td>11.305788</td>\n",
       "      <td>3.833774</td>\n",
       "      <td>3247.43962</td>\n",
       "      <td>...</td>\n",
       "      <td>10.190264</td>\n",
       "      <td>0.594000</td>\n",
       "      <td>0.273480</td>\n",
       "      <td>3.623462</td>\n",
       "      <td>-3.349982</td>\n",
       "      <td>1</td>\n",
       "      <td>0.476314</td>\n",
       "      <td>7.60729</td>\n",
       "      <td>1.0</td>\n",
       "      <td>0.476314</td>\n",
       "    </tr>\n",
       "    <tr>\n",
       "      <th>...</th>\n",
       "      <td>...</td>\n",
       "      <td>...</td>\n",
       "      <td>...</td>\n",
       "      <td>...</td>\n",
       "      <td>...</td>\n",
       "      <td>...</td>\n",
       "      <td>...</td>\n",
       "      <td>...</td>\n",
       "      <td>...</td>\n",
       "      <td>...</td>\n",
       "      <td>...</td>\n",
       "      <td>...</td>\n",
       "      <td>...</td>\n",
       "      <td>...</td>\n",
       "      <td>...</td>\n",
       "      <td>...</td>\n",
       "      <td>...</td>\n",
       "      <td>...</td>\n",
       "      <td>...</td>\n",
       "      <td>...</td>\n",
       "      <td>...</td>\n",
       "    </tr>\n",
       "    <tr>\n",
       "      <th>488</th>\n",
       "      <td>0.371751</td>\n",
       "      <td>1536.55722</td>\n",
       "      <td>85.200147</td>\n",
       "      <td>11.725242</td>\n",
       "      <td>8.138688</td>\n",
       "      <td>4.216884</td>\n",
       "      <td>0.025578</td>\n",
       "      <td>14.557620</td>\n",
       "      <td>1.229900</td>\n",
       "      <td>4584.40632</td>\n",
       "      <td>...</td>\n",
       "      <td>14.418632</td>\n",
       "      <td>0.022846</td>\n",
       "      <td>-4.838804</td>\n",
       "      <td>0.000000</td>\n",
       "      <td>-4.838804</td>\n",
       "      <td>-1</td>\n",
       "      <td>0.636075</td>\n",
       "      <td>7.60729</td>\n",
       "      <td>-1.0</td>\n",
       "      <td>0.636075</td>\n",
       "    </tr>\n",
       "    <tr>\n",
       "      <th>489</th>\n",
       "      <td>2.042494</td>\n",
       "      <td>3209.18378</td>\n",
       "      <td>105.701133</td>\n",
       "      <td>14.837727</td>\n",
       "      <td>8.138688</td>\n",
       "      <td>9.992952</td>\n",
       "      <td>0.025578</td>\n",
       "      <td>13.177482</td>\n",
       "      <td>1.229900</td>\n",
       "      <td>6366.32014</td>\n",
       "      <td>...</td>\n",
       "      <td>21.499348</td>\n",
       "      <td>21.978000</td>\n",
       "      <td>-4.204958</td>\n",
       "      <td>0.633846</td>\n",
       "      <td>-4.838804</td>\n",
       "      <td>-1</td>\n",
       "      <td>0.636075</td>\n",
       "      <td>7.60729</td>\n",
       "      <td>-1.0</td>\n",
       "      <td>0.636075</td>\n",
       "    </tr>\n",
       "    <tr>\n",
       "      <th>490</th>\n",
       "      <td>0.363205</td>\n",
       "      <td>1258.32256</td>\n",
       "      <td>85.200147</td>\n",
       "      <td>24.165891</td>\n",
       "      <td>8.138688</td>\n",
       "      <td>5.669760</td>\n",
       "      <td>0.025578</td>\n",
       "      <td>10.448716</td>\n",
       "      <td>1.229900</td>\n",
       "      <td>6999.86322</td>\n",
       "      <td>...</td>\n",
       "      <td>31.712760</td>\n",
       "      <td>0.102600</td>\n",
       "      <td>-4.838804</td>\n",
       "      <td>0.000000</td>\n",
       "      <td>-4.838804</td>\n",
       "      <td>-1</td>\n",
       "      <td>0.636075</td>\n",
       "      <td>7.60729</td>\n",
       "      <td>-1.0</td>\n",
       "      <td>0.636075</td>\n",
       "    </tr>\n",
       "    <tr>\n",
       "      <th>491</th>\n",
       "      <td>0.405935</td>\n",
       "      <td>4034.52841</td>\n",
       "      <td>85.200147</td>\n",
       "      <td>18.640843</td>\n",
       "      <td>10.288728</td>\n",
       "      <td>5.040771</td>\n",
       "      <td>0.038671</td>\n",
       "      <td>9.969764</td>\n",
       "      <td>6.655516</td>\n",
       "      <td>9443.14130</td>\n",
       "      <td>...</td>\n",
       "      <td>33.399992</td>\n",
       "      <td>0.099000</td>\n",
       "      <td>-2.704165</td>\n",
       "      <td>2.134640</td>\n",
       "      <td>-4.838804</td>\n",
       "      <td>-1</td>\n",
       "      <td>0.636075</td>\n",
       "      <td>7.60729</td>\n",
       "      <td>-1.0</td>\n",
       "      <td>0.636075</td>\n",
       "    </tr>\n",
       "    <tr>\n",
       "      <th>492</th>\n",
       "      <td>0.427300</td>\n",
       "      <td>2459.10720</td>\n",
       "      <td>130.138587</td>\n",
       "      <td>55.355778</td>\n",
       "      <td>10.005552</td>\n",
       "      <td>8.070549</td>\n",
       "      <td>0.025578</td>\n",
       "      <td>15.408390</td>\n",
       "      <td>1.229900</td>\n",
       "      <td>5888.87769</td>\n",
       "      <td>...</td>\n",
       "      <td>119.559420</td>\n",
       "      <td>21.978000</td>\n",
       "      <td>-4.204958</td>\n",
       "      <td>0.633846</td>\n",
       "      <td>-4.838804</td>\n",
       "      <td>-1</td>\n",
       "      <td>0.636075</td>\n",
       "      <td>7.60729</td>\n",
       "      <td>-1.0</td>\n",
       "      <td>0.636075</td>\n",
       "    </tr>\n",
       "  </tbody>\n",
       "</table>\n",
       "<p>493 rows × 64 columns</p>\n",
       "</div>"
      ],
      "text/plain": [
       "            0           1           2          3          4         5  \\\n",
       "0    0.585401  2830.23235   85.200147  14.407244   8.138688  4.305474   \n",
       "1    1.546826  1766.78392   93.874311  23.949101  19.675488  8.136992   \n",
       "2    0.235015  1608.60062  122.518212  12.041136   8.138688  8.371755   \n",
       "3    0.132463  1777.81186   85.200147  18.591291   8.138688  4.544667   \n",
       "4    0.726410  7720.75106   85.200147  32.595925   8.138688  7.042905   \n",
       "..        ...         ...         ...        ...        ...       ...   \n",
       "488  0.371751  1536.55722   85.200147  11.725242   8.138688  4.216884   \n",
       "489  2.042494  3209.18378  105.701133  14.837727   8.138688  9.992952   \n",
       "490  0.363205  1258.32256   85.200147  24.165891   8.138688  5.669760   \n",
       "491  0.405935  4034.52841   85.200147  18.640843  10.288728  5.040771   \n",
       "492  0.427300  2459.10720  130.138587  55.355778  10.005552  8.070549   \n",
       "\n",
       "            6          7          8           9  ...          54         55  \\\n",
       "0    0.038976   9.919348   1.229900  5865.79458  ...   31.175212   0.091696   \n",
       "1    0.025578  14.292936  16.023840  3362.14406  ...   32.520368  21.978000   \n",
       "2    0.025578   6.743140   1.229900  5970.51951  ...   56.789760   0.069709   \n",
       "3    0.115710   9.856328   8.531992  4298.32437  ...   21.291016  21.978000   \n",
       "4    0.025578  11.305788   3.833774  3247.43962  ...   10.190264   0.594000   \n",
       "..        ...        ...        ...         ...  ...         ...        ...   \n",
       "488  0.025578  14.557620   1.229900  4584.40632  ...   14.418632   0.022846   \n",
       "489  0.025578  13.177482   1.229900  6366.32014  ...   21.499348  21.978000   \n",
       "490  0.025578  10.448716   1.229900  6999.86322  ...   31.712760   0.102600   \n",
       "491  0.038671   9.969764   6.655516  9443.14130  ...   33.399992   0.099000   \n",
       "492  0.025578  15.408390   1.229900  5888.87769  ...  119.559420  21.978000   \n",
       "\n",
       "     sum_alpha  pos_votes  neg_votes  classification    margin  \\\n",
       "0    -1.372956   1.732924  -3.105880              -1  0.408277   \n",
       "1     0.387696   3.567169  -3.179473               1  0.468915   \n",
       "2    -2.954069   0.942368  -3.896437              -1  0.512198   \n",
       "3    -4.204958   0.633846  -4.838804              -1  0.636075   \n",
       "4     0.273480   3.623462  -3.349982               1  0.476314   \n",
       "..         ...        ...        ...             ...       ...   \n",
       "488  -4.838804   0.000000  -4.838804              -1  0.636075   \n",
       "489  -4.204958   0.633846  -4.838804              -1  0.636075   \n",
       "490  -4.838804   0.000000  -4.838804              -1  0.636075   \n",
       "491  -2.704165   2.134640  -4.838804              -1  0.636075   \n",
       "492  -4.204958   0.633846  -4.838804              -1  0.636075   \n",
       "\n",
       "     total_alpha_votes  true_class_label  sign_of_margin  \n",
       "0              7.60729               1.0       -0.408277  \n",
       "1              7.60729               1.0        0.468915  \n",
       "2              7.60729               1.0       -0.512198  \n",
       "3              7.60729               1.0       -0.636075  \n",
       "4              7.60729               1.0        0.476314  \n",
       "..                 ...               ...             ...  \n",
       "488            7.60729              -1.0        0.636075  \n",
       "489            7.60729              -1.0        0.636075  \n",
       "490            7.60729              -1.0        0.636075  \n",
       "491            7.60729              -1.0        0.636075  \n",
       "492            7.60729              -1.0        0.636075  \n",
       "\n",
       "[493 rows x 64 columns]"
      ]
     },
     "execution_count": 73,
     "metadata": {},
     "output_type": "execute_result"
    }
   ],
   "source": [
    "training_set_x_df['sign_of_margin'] = training_set_x_df[['margin', 'classification', 'true_class_label']].apply(lambda x: sign_of_margin(*x), axis=1)\n",
    "training_set_x_df"
   ]
  },
  {
   "cell_type": "code",
   "execution_count": 74,
   "id": "f417391c",
   "metadata": {},
   "outputs": [],
   "source": [
    "rcParams['figure.figsize'] = 20, 10\n",
    "\n",
    "margin_10 = training_set_x_df[['sign_of_margin']].copy()\n"
   ]
  },
  {
   "cell_type": "code",
   "execution_count": 75,
   "id": "0f835de9",
   "metadata": {},
   "outputs": [
    {
     "data": {
      "text/plain": [
       "<AxesSubplot:xlabel='sign_of_margin', ylabel='Density'>"
      ]
     },
     "execution_count": 75,
     "metadata": {},
     "output_type": "execute_result"
    },
    {
     "data": {
      "image/png": "[encoded data removed]",
      "text/plain": [
       "<Figure size 1440x720 with 1 Axes>"
      ]
     },
     "metadata": {
      "needs_background": "light"
     },
     "output_type": "display_data"
    }
   ],
   "source": [
    "sns.set_context(\"notebook\", font_scale=1.5, rc={\"lines.linewidth\": 3.5})\n",
    "rcParams['figure.figsize'] = 20, 10\n",
    "sns.kdeplot(margin_10.sign_of_margin, cumulative=True, label='classifier size 10')\n"
   ]
  },
  {
   "cell_type": "markdown",
   "id": "c3e34706",
   "metadata": {},
   "source": [
    "The graph shows how samples are distributed based on classification margins. Margins indicate how confident the classifier is in its predictions. The dataframe's 'sum_alpha', 'pos_votes', and 'neg_votes' columns reflect these margin-based characteristics. Positive margins indicate confidence in correct predictions, while negative margins show uncertainty. \n",
    "No samples have margins between -1 and -0.75 on the x-axis.\n",
    "A small portion of samples have slightly negative margins between -0.75 and -0.35, with cumulative density around 0.19.\n",
    "Most samples have margins between -0.35 and 0.35, constituting about 35% of the data.\n",
    "Many samples have positive margins between 0.35 and 0.75, with cumulative density reaching around 0.75.\n",
    "Samples with margins above 0.75 are dominant."
   ]
  },
  {
   "cell_type": "markdown",
   "id": "5c1c3dfc",
   "metadata": {},
   "source": [
    "## Task2\n"
   ]
  },
  {
   "cell_type": "markdown",
   "id": "580edb39",
   "metadata": {},
   "source": [
    "Now, I will attempt to manipulate the data to see if I can achieve better results by addressing the NaN values in the dataset."
   ]
  },
  {
   "cell_type": "code",
   "execution_count": 76,
   "id": "1ec808a4",
   "metadata": {},
   "outputs": [],
   "source": [
    "AgingTable =  train\n",
    "AgingTable.drop('Id', axis=1, inplace=True)"
   ]
  },
  {
   "cell_type": "code",
   "execution_count": 77,
   "id": "7b7444db",
   "metadata": {
    "scrolled": true
   },
   "outputs": [
    {
     "data": {
      "image/png": "[encoded data removed]",
      "text/plain": [
       "<Figure size 720x432 with 1 Axes>"
      ]
     },
     "metadata": {
      "needs_background": "light"
     },
     "output_type": "display_data"
    }
   ],
   "source": [
    "plt.figure(figsize=(10, 6))\n",
    "sns.heatmap(AgingTable.isnull(), cbar=False, cmap='viridis')\n",
    "plt.show()"
   ]
  },
  {
   "cell_type": "markdown",
   "id": "8f6c3b1b",
   "metadata": {},
   "source": [
    "It's possible to observe that two variables have missing values, and the majority of these missing values occur in the same row."
   ]
  },
  {
   "cell_type": "code",
   "execution_count": 78,
   "id": "2d2a44b4",
   "metadata": {},
   "outputs": [
    {
     "data": {
      "image/png": "[encoded data removed]",
      "text/plain": [
       "<Figure size 1440x1080 with 2 Axes>"
      ]
     },
     "metadata": {
      "needs_background": "light"
     },
     "output_type": "display_data"
    }
   ],
   "source": [
    "correlation_matrix = AgingTable.corr()\n",
    "colors = sns.color_palette(\"coolwarm\", as_cmap=True)\n",
    "plt.figure(figsize=(20, 15))\n",
    "sns.heatmap(correlation_matrix, cmap=colors)\n",
    "plt.show()"
   ]
  },
  {
   "cell_type": "code",
   "execution_count": 82,
   "id": "8b3cc5d0",
   "metadata": {
    "scrolled": true
   },
   "outputs": [
    {
     "name": "stdout",
     "output_type": "stream",
     "text": [
      "Correlação entre AH e EB: 0.7051098844404061\n",
      "Correlação entre DV e EP: 0.7167776407703207\n",
      "Correlação entre AR e CS: 0.7208532303855877\n",
      "Correlação entre EB e EP: 0.7293743160463839\n",
      "Correlação entre AR e EB: 0.7409995605603903\n",
      "Correlação entre AR e CL: 0.745504296511512\n",
      "Correlação entre AH e DV: 0.7467150879529467\n",
      "Correlação entre AH e AR: 0.7497937614501206\n",
      "Correlação entre BC e BD : 0.753051187522036\n",
      "Correlação entre AR e EP: 0.7546150039189135\n",
      "Correlação entre CS e EP: 0.7941579663509495\n",
      "Correlação entre DU e FD : 0.8059889735701716\n",
      "Correlação entre AR e DV: 0.8230115789956313\n",
      "Correlação entre DU e EH: 0.8509567949347095\n",
      "Correlação entre BC e BZ: 0.9079805920864286\n",
      "Correlação entre CL e DV: 0.9489914930341183\n",
      "Correlação entre EH e FD : 0.9711522790899462\n",
      "Correlação entre EJ e GL: 0.9782126090175094\n"
     ]
    }
   ],
   "source": [
    "correlation_threshold = 0.7\n",
    "correlation_list = []\n",
    "\n",
    "for row in range(len(correlation_matrix)):\n",
    "    for col in range(row+1, len(correlation_matrix)):\n",
    "        if abs(correlation_matrix.iloc[row, col]) > correlation_threshold:\n",
    "            correlation_list.append((correlation_matrix.index[row], correlation_matrix.columns[col]))\n",
    "\n",
    "# Ordenar a lista com base nas correlações (segundo elemento das tuplas)\n",
    "sorted_correlation_list = sorted(correlation_list, key=lambda x: abs(correlation_matrix.loc[x[0], x[1]]))\n",
    "\n",
    "# Imprimir as correlações em ordem crescente\n",
    "for pair in sorted_correlation_list:\n",
    "    print(f\"Correlação entre {pair[0]} e {pair[1]}: {correlation_matrix.loc[pair[0], pair[1]]}\")"
   ]
  },
  {
   "cell_type": "markdown",
   "id": "d21400ae",
   "metadata": {},
   "source": [
    "The correlation matrix and the list above confirm a strong correlation between certain variables, with some of them exceeding a correlation coefficient of 0.9."
   ]
  },
  {
   "cell_type": "code",
   "execution_count": 84,
   "id": "b06eabd7",
   "metadata": {},
   "outputs": [],
   "source": [
    "from pylab import rcParams\n",
    "def generate_heatmap(df, column_name):\n",
    "    # Criando o DataFrame X preenchido com zeros\n",
    "    X = pd.DataFrame(0, index=df.index, columns=df.columns[1:])\n",
    "    for col_idx, column in enumerate(df.columns[:]):\n",
    "        if column == column_name:\n",
    "            continue\n",
    "        provisory_df = df[[column, column_name]].copy()\n",
    "        sorted_df = provisory_df.sort_values(by=column)\n",
    "        sorted_df['marker'] = 0\n",
    "        for idx, row in sorted_df.iterrows():\n",
    "            if pd.isnull(row[column]) and pd.isnull(row[column_name]):\n",
    "                sorted_df.at[idx, 'marker'] = 3\n",
    "            elif pd.isnull(row[column]):\n",
    "                sorted_df.at[idx, 'marker'] = 1\n",
    "            elif pd.isnull(row[column_name]):\n",
    "                sorted_df.at[idx, 'marker'] = 2\n",
    "        X[column] = sorted_df['marker'].values\n",
    "        del provisory_df\n",
    "    X = X[df.columns[:]]\n",
    "    X = X.drop(columns=[column_name])\n",
    "    colors = ListedColormap(['white', 'green', 'red', 'black'])\n",
    "    plt.figure(figsize=(15, 15))\n",
    "    sns.heatmap(X, cbar=False, cmap=colors)\n",
    "    plt.show()"
   ]
  },
  {
   "cell_type": "code",
   "execution_count": 90,
   "id": "12b09f34",
   "metadata": {
    "scrolled": false
   },
   "outputs": [
    {
     "name": "stdout",
     "output_type": "stream",
     "text": [
      "lines with 0 or more missing values:\n",
      "0        548\n",
      "1         11\n",
      "2         56\n",
      "4          2\n",
      "Total    617\n",
      "dtype: int64\n"
     ]
    }
   ],
   "source": [
    "missing_counts = AgingTable.isnull().sum(axis=1)\n",
    "total_rows = len(AgingTable)\n",
    "missing_count_distribution = missing_counts.value_counts().sort_index()\n",
    "missing_count_distribution['Total'] = total_rows\n",
    "print(\"lines with 0 or more missing values:\")\n",
    "print(missing_count_distribution)"
   ]
  },
  {
   "cell_type": "code",
   "execution_count": 89,
   "id": "281b8778",
   "metadata": {},
   "outputs": [
    {
     "name": "stdout",
     "output_type": "stream",
     "text": [
      "Missing Values:\n",
      "    Quantity         %\n",
      "BQ        60  9.724473\n",
      "CB         2  0.324149\n",
      "CC         3  0.486224\n",
      "DU         1  0.162075\n",
      "EL        60  9.724473\n",
      "FC         1  0.162075\n",
      "FL         1  0.162075\n",
      "FS         2  0.324149\n",
      "GL         1  0.162075\n"
     ]
    }
   ],
   "source": [
    "columns_with_missing_values = AgingTable.columns[AgingTable.isna().any()]\n",
    "missing_counts = AgingTable[columns_with_missing_values].isna().sum()\n",
    "missing_percentages = (missing_counts / len(AgingTable)) * 100\n",
    "missing_info = pd.DataFrame({\n",
    "    'Quantity': missing_counts,\n",
    "    '%': missing_percentages\n",
    "})\n",
    "\n",
    "print(\"Missing Values:\")\n",
    "print(missing_info)"
   ]
  },
  {
   "cell_type": "code",
   "execution_count": 85,
   "id": "dcb45764",
   "metadata": {},
   "outputs": [
    {
     "data": {
      "image/png": "[encoded data removed]",
      "text/plain": [
       "<Figure size 1080x1080 with 1 Axes>"
      ]
     },
     "metadata": {
      "needs_background": "light"
     },
     "output_type": "display_data"
    }
   ],
   "source": [
    "generate_heatmap(AgingTable, 'BQ')"
   ]
  },
  {
   "cell_type": "code",
   "execution_count": 86,
   "id": "fc3237cc",
   "metadata": {
    "scrolled": true
   },
   "outputs": [
    {
     "data": {
      "image/png": "[encoded data removed]",
      "text/plain": [
       "<Figure size 1080x1080 with 1 Axes>"
      ]
     },
     "metadata": {
      "needs_background": "light"
     },
     "output_type": "display_data"
    }
   ],
   "source": [
    "generate_heatmap(AgingTable, 'EL')"
   ]
  },
  {
   "cell_type": "markdown",
   "id": "51b835d5",
   "metadata": {},
   "source": [
    "\n",
    "The variables BQ and EJ exhibit 60 missing values, accounting for approximately 10% of the dataframe. Given the identical count, it's crucial to investigate whether these missing values follow any discernible pattern in relation to the other variables. Out of these, 56 missing values are present in the same row for both variables, depicted in black on the plot. However, considering the impact of these missing values on other variables, there doesn't appear to be any significant trend or pattern worth highlighting."
   ]
  },
  {
   "cell_type": "code",
   "execution_count": 91,
   "id": "e2695216",
   "metadata": {},
   "outputs": [],
   "source": [
    "def calculate_correlations(df, target_column):\n",
    "    correlation_with_target = df.corrwith(df[target_column])\n",
    "    correlation_df = pd.DataFrame({'Variable': correlation_with_target.index, 'Correlation_with_Target': correlation_with_target.values})\n",
    "    correlation_df = correlation_df.sort_values(by='Correlation_with_Target', ascending=False)\n",
    "    return correlation_df"
   ]
  },
  {
   "cell_type": "code",
   "execution_count": 94,
   "id": "0c34f386",
   "metadata": {
    "scrolled": true
   },
   "outputs": [
    {
     "name": "stdout",
     "output_type": "stream",
     "text": [
      "   Variable  Correlation_with_Target\n",
      "12       BQ                 1.000000\n",
      "31       DN                 0.344137\n",
      "1        AF                 0.309300\n",
      "56    Class                 0.281257\n",
      "   Variable  Correlation_with_Target\n",
      "34       DY                -0.112139\n",
      "52       GF                -0.134377\n",
      "55       GL                -0.279813\n",
      "39       EJ                -0.282152\n"
     ]
    }
   ],
   "source": [
    "correlation_result = calculate_correlations(AgingTable, 'BQ')\n",
    "print(correlation_result.head(4))  \n",
    "print(correlation_result.tail(4)) "
   ]
  },
  {
   "cell_type": "code",
   "execution_count": 95,
   "id": "7fb5a907",
   "metadata": {},
   "outputs": [
    {
     "name": "stdout",
     "output_type": "stream",
     "text": [
      "   Variable  Correlation_with_Target\n",
      "40       EL                 1.000000\n",
      "39       EJ                 0.336702\n",
      "55       GL                 0.314225\n",
      "51       GE                 0.186231\n",
      "   Variable  Correlation_with_Target\n",
      "25       DA                -0.089641\n",
      "37       EG                -0.090724\n",
      "17      CD                 -0.104424\n",
      "21       CR                -0.135894\n"
     ]
    }
   ],
   "source": [
    "correlation_result = calculate_correlations(AgingTable, 'EL')\n",
    "print(correlation_result.head(4))  \n",
    "print(correlation_result.tail(4)) "
   ]
  },
  {
   "cell_type": "markdown",
   "id": "4b55496c",
   "metadata": {},
   "source": [
    "When comparing the correlation between the two variables, BQ and EL, it's evident that they lack strong correlations with other variables."
   ]
  },
  {
   "cell_type": "code",
   "execution_count": 149,
   "id": "aef7e8d8",
   "metadata": {},
   "outputs": [],
   "source": [
    "agingtable = AgingTable"
   ]
  },
  {
   "cell_type": "code",
   "execution_count": 150,
   "id": "7d97ae01",
   "metadata": {},
   "outputs": [],
   "source": [
    "import pandas as pd\n",
    "from sklearn.impute import KNNImputer\n",
    "n_neighbors = 5\n",
    "imputer = KNNImputer(n_neighbors=n_neighbors)\n",
    "data_imputed = imputer.fit_transform(agingtable)\n",
    "agingtable = pd.DataFrame(data_imputed, columns=agingtable.columns)"
   ]
  },
  {
   "cell_type": "code",
   "execution_count": 151,
   "id": "371f3fc7",
   "metadata": {},
   "outputs": [],
   "source": [
    "data_no_variable = agingtable.drop(['EL', 'BQ'], axis=1)"
   ]
  },
  {
   "cell_type": "code",
   "execution_count": 152,
   "id": "7173bdb9",
   "metadata": {},
   "outputs": [],
   "source": [
    "data_no_vari_correlation = agingtable.drop(['EJ', 'EH', 'DV', 'BC', 'EL', 'BQ'], axis=1)"
   ]
  },
  {
   "cell_type": "code",
   "execution_count": 153,
   "id": "dfe34175",
   "metadata": {},
   "outputs": [],
   "source": [
    "data_no_correlation = agingtable.drop(['EJ', 'EH', 'DV', 'BC'], axis=1)#remove the corre"
   ]
  },
  {
   "cell_type": "code",
   "execution_count": 154,
   "id": "6c363654",
   "metadata": {},
   "outputs": [],
   "source": [
    "data_no_lin = AgingTable.dropna(subset=['EL', 'BQ'])#subtrai as linhas \n",
    "data_imputed = imputer.fit_transform(data_no_lin)\n",
    "data_no_line = pd.DataFrame(data_imputed, columns=data_no_lin.columns)\n"
   ]
  },
  {
   "cell_type": "markdown",
   "id": "f98c0c10",
   "metadata": {},
   "source": [
    "\n",
    "The decision was made to address the missing values using the k-nearest neighbors (KNN) technique and create various datasets to evaluate potential improvements. These datasets include:\n",
    "\n",
    "A dataframe with all variables and columns, but no missing values.\n",
    "A dataframe without the two variables BQ and EL, which contain the most missing values.\n",
    "A dataframe without variables exhibiting high correlation (above 0.85).\n",
    "A dataframe without variables BQ and EL, and also excluding those with high correlation.\n",
    "A dataframe without the rows containing missing values.\n",
    "These datasets were prepared to analyze their impact on the model's performance and determine if any of these approaches could yield better results."
   ]
  },
  {
   "cell_type": "code",
   "execution_count": 102,
   "id": "4e2dc81d",
   "metadata": {},
   "outputs": [
    {
     "name": "stdout",
     "output_type": "stream",
     "text": [
      "[[37 65]\n",
      " [ 2 20]]\n",
      "[[102   0]\n",
      " [ 22   0]]\n",
      "[[  0 102]\n",
      " [  0  22]]\n"
     ]
    }
   ],
   "source": [
    "train_data, test_data = split_train_test_data(data_no_variable, 'Class', test_size=0.2, random_state=42)\n",
    "test_data=test_data.values\n",
    "label = train_data[\"Class\"].to_numpy()\n",
    "x = train_data.iloc[:, 1:-1].copy()\n",
    "x = x.values\n",
    "T = 10\n",
    "dim, N, h, alpha, weight, err = initialize_adaboost_parameters(x, T)\n",
    "temp_sum = np.zeros(N, dtype=np.float64)\n",
    "temp = np.zeros(N, dtype=np.float64)\n",
    "final_label = np.zeros(N, dtype=np.float64)\n",
    "misshits = np.array([None] * (T+1), dtype=float)\n",
    "misshits[0] = 1.0\n",
    "classification_boundaries = []\n",
    "weight_prev = weight\n",
    "weighted_error = np.float64(0)\n",
    "for t in range(T): \n",
    "    for feature in range(dim):\n",
    "        weighted_error = np.float64(0)\n",
    "        threshold, sign, weighted_error = calculate_decision_stump_efficient(x, feature, weight, label)       \n",
    "        if weighted_error < err[t] :\n",
    "            err[t] = weighted_error\n",
    "            h[t][0] = threshold\n",
    "            h[t][1] = feature\n",
    "            h[t][2] = sign\n",
    "    alpha[t] = calculate_alpha(err[t])\n",
    "    classification = classify_dataset_against_weak_classifier(x[:, int(h[t][1]) ], h[t][0], h[t][2] )  \n",
    "    weight = update_weights(weight, alpha[t], classification, label)\n",
    "    weight = normalise_weights(weight )\n",
    "classifier_df = pd.DataFrame(h, columns=['threshold','feature','direction'])\n",
    "classifier_df['alpha'] = alpha\n",
    "threshold = 0\n",
    "model_name = \"Model 10\"\n",
    "store_result = evaluate_and_store_result(store_result, test_data, model_name, threshold, classifier_df)\n",
    "threshold = 5\n",
    "model_name = \"Model 11\"\n",
    "store_result = evaluate_and_store_result(store_result, test_data, model_name, threshold, classifier_df)\n",
    "threshold = -3\n",
    "model_name = \"Model 12\"\n",
    "store_result = evaluate_and_store_result(store_result, test_data, model_name, threshold, classifier_df)\n"
   ]
  },
  {
   "cell_type": "code",
   "execution_count": 103,
   "id": "8abe4105",
   "metadata": {},
   "outputs": [
    {
     "name": "stdout",
     "output_type": "stream",
     "text": [
      "[[37 65]\n",
      " [ 2 20]]\n",
      "[[102   0]\n",
      " [ 22   0]]\n",
      "[[  0 102]\n",
      " [  0  22]]\n"
     ]
    }
   ],
   "source": [
    "T = 50\n",
    "dim, N, h, alpha, weight, err = initialize_adaboost_parameters(x, T)\n",
    "temp_sum = np.zeros(N, dtype=np.float64)\n",
    "temp = np.zeros(N, dtype=np.float64)\n",
    "final_label = np.zeros(N, dtype=np.float64)\n",
    "misshits = np.array([None] * (T+1), dtype=float)\n",
    "misshits[0] = 1.0\n",
    "classification_boundaries = []\n",
    "weight_prev = weight\n",
    "weighted_error = np.float64(0)\n",
    "for t in range(T): \n",
    "    for feature in range(dim):\n",
    "        weighted_error = np.float64(0)\n",
    "        threshold, sign, weighted_error = calculate_decision_stump_efficient(x, feature, weight, label)       \n",
    "        if weighted_error < err[t] :\n",
    "            err[t] = weighted_error\n",
    "            h[t][0] = threshold\n",
    "            h[t][1] = feature\n",
    "            h[t][2] = sign\n",
    "    alpha[t] = calculate_alpha(err[t])\n",
    "    classification = classify_dataset_against_weak_classifier(x[:, int(h[t][1]) ], h[t][0], h[t][2] )  \n",
    "    weight = update_weights(weight, alpha[t], classification, label)\n",
    "    weight = normalise_weights(weight )\n",
    "classifier_df = pd.DataFrame(h, columns=['threshold','feature','direction'])\n",
    "classifier_df['alpha'] = alpha\n",
    "threshold = 0\n",
    "model_name = \"Model 13\"\n",
    "store_result = evaluate_and_store_result(store_result, test_data, model_name, threshold, classifier_df)\n",
    "threshold = 5\n",
    "model_name = \"Model 14\"\n",
    "store_result = evaluate_and_store_result(store_result, test_data, model_name, threshold, classifier_df)\n",
    "threshold = -3\n",
    "model_name = \"Model 15\"\n",
    "store_result = evaluate_and_store_result(store_result, test_data, model_name, threshold, classifier_df)\n"
   ]
  },
  {
   "cell_type": "code",
   "execution_count": 104,
   "id": "e89f3c90",
   "metadata": {},
   "outputs": [
    {
     "name": "stdout",
     "output_type": "stream",
     "text": [
      "[[37 65]\n",
      " [ 2 20]]\n",
      "[[102   0]\n",
      " [ 22   0]]\n",
      "[[  0 102]\n",
      " [  0  22]]\n"
     ]
    }
   ],
   "source": [
    "T = 100\n",
    "dim, N, h, alpha, weight, err = initialize_adaboost_parameters(x, T)\n",
    "temp_sum = np.zeros(N, dtype=np.float64)\n",
    "temp = np.zeros(N, dtype=np.float64)\n",
    "final_label = np.zeros(N, dtype=np.float64)\n",
    "misshits = np.array([None] * (T+1), dtype=float)\n",
    "misshits[0] = 1.0\n",
    "classification_boundaries = []\n",
    "weight_prev = weight\n",
    "weighted_error = np.float64(0)\n",
    "for t in range(T): \n",
    "    for feature in range(dim):\n",
    "        weighted_error = np.float64(0)\n",
    "        threshold, sign, weighted_error = calculate_decision_stump_efficient(x, feature, weight, label)       \n",
    "        if weighted_error < err[t] :\n",
    "            err[t] = weighted_error\n",
    "            h[t][0] = threshold\n",
    "            h[t][1] = feature\n",
    "            h[t][2] = sign\n",
    "    alpha[t] = calculate_alpha(err[t])\n",
    "    classification = classify_dataset_against_weak_classifier(x[:, int(h[t][1]) ], h[t][0], h[t][2] )  \n",
    "    weight = update_weights(weight, alpha[t], classification, label)\n",
    "    weight = normalise_weights(weight )\n",
    "classifier_df = pd.DataFrame(h, columns=['threshold','feature','direction'])\n",
    "classifier_df['alpha'] = alpha\n",
    "threshold = 0\n",
    "model_name = \"Model 16\"\n",
    "store_result = evaluate_and_store_result(store_result, test_data, model_name, threshold, classifier_df)\n",
    "threshold = 5\n",
    "model_name = \"Model 17\"\n",
    "store_result = evaluate_and_store_result(store_result, test_data, model_name, threshold, classifier_df)\n",
    "threshold = -3\n",
    "model_name = \"Model 18\"\n",
    "store_result = evaluate_and_store_result(store_result, test_data, model_name, threshold, classifier_df)\n"
   ]
  },
  {
   "cell_type": "code",
   "execution_count": 105,
   "id": "0d56b32a",
   "metadata": {},
   "outputs": [
    {
     "name": "stdout",
     "output_type": "stream",
     "text": [
      "[[37 65]\n",
      " [ 2 20]]\n",
      "[[102   0]\n",
      " [ 22   0]]\n",
      "[[  0 102]\n",
      " [  0  22]]\n"
     ]
    }
   ],
   "source": [
    "train_data, test_data = split_train_test_data(data_no_vari_correlation, 'Class', test_size=0.2, random_state=42)\n",
    "test_data=test_data.values\n",
    "label = train_data[\"Class\"].to_numpy()\n",
    "x = train_data.iloc[:, 1:-1].copy()\n",
    "x = x.values\n",
    "T = 10\n",
    "dim, N, h, alpha, weight, err = initialize_adaboost_parameters(x, T)\n",
    "temp_sum = np.zeros(N, dtype=np.float64)\n",
    "temp = np.zeros(N, dtype=np.float64)\n",
    "final_label = np.zeros(N, dtype=np.float64)\n",
    "misshits = np.array([None] * (T+1), dtype=float)\n",
    "misshits[0] = 1.0\n",
    "classification_boundaries = []\n",
    "weight_prev = weight\n",
    "weighted_error = np.float64(0)\n",
    "for t in range(T): \n",
    "    for feature in range(dim):\n",
    "        weighted_error = np.float64(0)\n",
    "        threshold, sign, weighted_error = calculate_decision_stump_efficient(x, feature, weight, label)       \n",
    "        if weighted_error < err[t] :\n",
    "            err[t] = weighted_error\n",
    "            h[t][0] = threshold\n",
    "            h[t][1] = feature\n",
    "            h[t][2] = sign\n",
    "    alpha[t] = calculate_alpha(err[t])\n",
    "    classification = classify_dataset_against_weak_classifier(x[:, int(h[t][1]) ], h[t][0], h[t][2] )  \n",
    "    weight = update_weights(weight, alpha[t], classification, label)\n",
    "    weight = normalise_weights(weight )\n",
    "classifier_df = pd.DataFrame(h, columns=['threshold','feature','direction'])\n",
    "classifier_df['alpha'] = alpha\n",
    "threshold = 0\n",
    "model_name = \"Model 19\"\n",
    "store_result = evaluate_and_store_result(store_result, test_data, model_name, threshold, classifier_df)\n",
    "threshold = 5\n",
    "model_name = \"Model 20\"\n",
    "store_result = evaluate_and_store_result(store_result, test_data, model_name, threshold, classifier_df)\n",
    "threshold = -3\n",
    "model_name = \"Model 21\"\n",
    "store_result = evaluate_and_store_result(store_result, test_data, model_name, threshold, classifier_df)\n",
    "\n",
    "\n",
    "\n"
   ]
  },
  {
   "cell_type": "code",
   "execution_count": 106,
   "id": "7445ffc5",
   "metadata": {},
   "outputs": [
    {
     "name": "stdout",
     "output_type": "stream",
     "text": [
      "[[37 65]\n",
      " [ 2 20]]\n",
      "[[102   0]\n",
      " [ 22   0]]\n",
      "[[  0 102]\n",
      " [  0  22]]\n"
     ]
    }
   ],
   "source": [
    "T = 50\n",
    "dim, N, h, alpha, weight, err = initialize_adaboost_parameters(x, T)\n",
    "temp_sum = np.zeros(N, dtype=np.float64)\n",
    "temp = np.zeros(N, dtype=np.float64)\n",
    "final_label = np.zeros(N, dtype=np.float64)\n",
    "misshits = np.array([None] * (T+1), dtype=float)\n",
    "misshits[0] = 1.0\n",
    "classification_boundaries = []\n",
    "weight_prev = weight\n",
    "weighted_error = np.float64(0)\n",
    "for t in range(T): \n",
    "    for feature in range(dim):\n",
    "        weighted_error = np.float64(0)\n",
    "        threshold, sign, weighted_error = calculate_decision_stump_efficient(x, feature, weight, label)       \n",
    "        if weighted_error < err[t] :\n",
    "            err[t] = weighted_error\n",
    "            h[t][0] = threshold\n",
    "            h[t][1] = feature\n",
    "            h[t][2] = sign\n",
    "    alpha[t] = calculate_alpha(err[t])\n",
    "    classification = classify_dataset_against_weak_classifier(x[:, int(h[t][1]) ], h[t][0], h[t][2] )  \n",
    "    weight = update_weights(weight, alpha[t], classification, label)\n",
    "    weight = normalise_weights(weight )\n",
    "classifier_df = pd.DataFrame(h, columns=['threshold','feature','direction'])\n",
    "classifier_df['alpha'] = alpha\n",
    "threshold = 0\n",
    "model_name = \"Model 22\"\n",
    "store_result = evaluate_and_store_result(store_result, test_data, model_name, threshold, classifier_df)\n",
    "threshold = 5\n",
    "model_name = \"Model 23\"\n",
    "store_result = evaluate_and_store_result(store_result, test_data, model_name, threshold, classifier_df)\n",
    "threshold = -3\n",
    "model_name = \"Model 24\"\n",
    "store_result = evaluate_and_store_result(store_result, test_data, model_name, threshold, classifier_df)\n",
    "\n"
   ]
  },
  {
   "cell_type": "code",
   "execution_count": 107,
   "id": "7e468f1d",
   "metadata": {},
   "outputs": [
    {
     "name": "stdout",
     "output_type": "stream",
     "text": [
      "[[37 65]\n",
      " [ 2 20]]\n",
      "[[102   0]\n",
      " [ 22   0]]\n",
      "[[  0 102]\n",
      " [  0  22]]\n"
     ]
    }
   ],
   "source": [
    "T = 100\n",
    "dim, N, h, alpha, weight, err = initialize_adaboost_parameters(x, T)\n",
    "temp_sum = np.zeros(N, dtype=np.float64)\n",
    "temp = np.zeros(N, dtype=np.float64)\n",
    "final_label = np.zeros(N, dtype=np.float64)\n",
    "misshits = np.array([None] * (T+1), dtype=float)\n",
    "misshits[0] = 1.0\n",
    "classification_boundaries = []\n",
    "weight_prev = weight\n",
    "weighted_error = np.float64(0)\n",
    "for t in range(T): \n",
    "    for feature in range(dim):\n",
    "        weighted_error = np.float64(0)\n",
    "        threshold, sign, weighted_error = calculate_decision_stump_efficient(x, feature, weight, label)       \n",
    "        if weighted_error < err[t] :\n",
    "            err[t] = weighted_error\n",
    "            h[t][0] = threshold\n",
    "            h[t][1] = feature\n",
    "            h[t][2] = sign\n",
    "    alpha[t] = calculate_alpha(err[t])\n",
    "    classification = classify_dataset_against_weak_classifier(x[:, int(h[t][1]) ], h[t][0], h[t][2] )  \n",
    "    weight = update_weights(weight, alpha[t], classification, label)\n",
    "    weight = normalise_weights(weight )\n",
    "classifier_df = pd.DataFrame(h, columns=['threshold','feature','direction'])\n",
    "classifier_df['alpha'] = alpha\n",
    "threshold = 0\n",
    "model_name = \"Model 25\"\n",
    "store_result = evaluate_and_store_result(store_result, test_data, model_name, threshold, classifier_df)\n",
    "threshold = 5\n",
    "model_name = \"Model 26\"\n",
    "store_result = evaluate_and_store_result(store_result, test_data, model_name, threshold, classifier_df)\n",
    "threshold = -3\n",
    "model_name = \"Model 27\"\n",
    "store_result = evaluate_and_store_result(store_result, test_data, model_name, threshold, classifier_df)\n",
    "\n"
   ]
  },
  {
   "cell_type": "code",
   "execution_count": 108,
   "id": "b1d90f8d",
   "metadata": {},
   "outputs": [
    {
     "name": "stdout",
     "output_type": "stream",
     "text": [
      "[[37 65]\n",
      " [ 2 20]]\n",
      "[[102   0]\n",
      " [ 22   0]]\n",
      "[[  0 102]\n",
      " [  0  22]]\n"
     ]
    }
   ],
   "source": [
    "train_data, test_data = split_train_test_data(data_no_correlation, 'Class', test_size=0.2, random_state=42)\n",
    "test_data=test_data.values\n",
    "label = train_data[\"Class\"].to_numpy()\n",
    "x = train_data.iloc[:, 1:-1].copy()\n",
    "x = x.values\n",
    "T = 10\n",
    "dim, N, h, alpha, weight, err = initialize_adaboost_parameters(x, T)\n",
    "temp_sum = np.zeros(N, dtype=np.float64)\n",
    "temp = np.zeros(N, dtype=np.float64)\n",
    "final_label = np.zeros(N, dtype=np.float64)\n",
    "misshits = np.array([None] * (T+1), dtype=float)\n",
    "misshits[0] = 1.0\n",
    "classification_boundaries = []\n",
    "weight_prev = weight\n",
    "weighted_error = np.float64(0)\n",
    "for t in range(T): \n",
    "    for feature in range(dim):\n",
    "        weighted_error = np.float64(0)\n",
    "        threshold, sign, weighted_error = calculate_decision_stump_efficient(x, feature, weight, label)       \n",
    "        if weighted_error < err[t] :\n",
    "            err[t] = weighted_error\n",
    "            h[t][0] = threshold\n",
    "            h[t][1] = feature\n",
    "            h[t][2] = sign\n",
    "    alpha[t] = calculate_alpha(err[t])\n",
    "    classification = classify_dataset_against_weak_classifier(x[:, int(h[t][1]) ], h[t][0], h[t][2] )  \n",
    "    weight = update_weights(weight, alpha[t], classification, label)\n",
    "    weight = normalise_weights(weight )\n",
    "classifier_df = pd.DataFrame(h, columns=['threshold','feature','direction'])\n",
    "classifier_df['alpha'] = alpha\n",
    "threshold = 0\n",
    "model_name = \"Model 28\"\n",
    "store_result = evaluate_and_store_result(store_result, test_data, model_name, threshold, classifier_df)\n",
    "threshold = 5\n",
    "model_name = \"Model 29\"\n",
    "store_result = evaluate_and_store_result(store_result, test_data, model_name, threshold, classifier_df)\n",
    "threshold = -3\n",
    "model_name = \"Model 30\"\n",
    "store_result = evaluate_and_store_result(store_result, test_data, model_name, threshold, classifier_df)\n",
    "\n"
   ]
  },
  {
   "cell_type": "code",
   "execution_count": 109,
   "id": "542fae94",
   "metadata": {},
   "outputs": [
    {
     "name": "stdout",
     "output_type": "stream",
     "text": [
      "[[15 87]\n",
      " [ 1 21]]\n",
      "[[57 45]\n",
      " [16  6]]\n",
      "[[  0 102]\n",
      " [  0  22]]\n"
     ]
    }
   ],
   "source": [
    "T = 50\n",
    "dim, N, h, alpha, weight, err = initialize_adaboost_parameters(x, T)\n",
    "temp_sum = np.zeros(N, dtype=np.float64)\n",
    "temp = np.zeros(N, dtype=np.float64)\n",
    "final_label = np.zeros(N, dtype=np.float64)\n",
    "misshits = np.array([None] * (T+1), dtype=float)\n",
    "misshits[0] = 1.0\n",
    "classification_boundaries = []\n",
    "weight_prev = weight\n",
    "weighted_error = np.float64(0)\n",
    "for t in range(T): \n",
    "    for feature in range(dim):\n",
    "        weighted_error = np.float64(0)\n",
    "        threshold, sign, weighted_error = calculate_decision_stump_efficient(x, feature, weight, label)       \n",
    "        if weighted_error < err[t] :\n",
    "            err[t] = weighted_error\n",
    "            h[t][0] = threshold\n",
    "            h[t][1] = feature\n",
    "            h[t][2] = sign\n",
    "    alpha[t] = calculate_alpha(err[t])\n",
    "    classification = classify_dataset_against_weak_classifier(x[:, int(h[t][1]) ], h[t][0], h[t][2] )  \n",
    "    weight = update_weights(weight, alpha[t], classification, label)\n",
    "    weight = normalise_weights(weight )\n",
    "classifier_df = pd.DataFrame(h, columns=['threshold','feature','direction'])\n",
    "classifier_df['alpha'] = alpha\n",
    "threshold = 0\n",
    "model_name = \"Model 31\"\n",
    "store_result = evaluate_and_store_result(store_result, test_data, model_name, threshold, classifier_df)\n",
    "threshold = 5\n",
    "model_name = \"Model 32\"\n",
    "store_result = evaluate_and_store_result(store_result, test_data, model_name, threshold, classifier_df)\n",
    "threshold = -3\n",
    "model_name = \"Model 33\"\n",
    "store_result = evaluate_and_store_result(store_result, test_data, model_name, threshold, classifier_df)\n",
    "\n"
   ]
  },
  {
   "cell_type": "code",
   "execution_count": 110,
   "id": "0ee26ea5",
   "metadata": {},
   "outputs": [
    {
     "name": "stdout",
     "output_type": "stream",
     "text": [
      "[[15 87]\n",
      " [ 1 21]]\n",
      "[[57 45]\n",
      " [16  6]]\n",
      "[[  0 102]\n",
      " [  0  22]]\n"
     ]
    }
   ],
   "source": [
    "T = 100\n",
    "dim, N, h, alpha, weight, err = initialize_adaboost_parameters(x, T)\n",
    "temp_sum = np.zeros(N, dtype=np.float64)\n",
    "temp = np.zeros(N, dtype=np.float64)\n",
    "final_label = np.zeros(N, dtype=np.float64)\n",
    "misshits = np.array([None] * (T+1), dtype=float)\n",
    "misshits[0] = 1.0\n",
    "classification_boundaries = []\n",
    "weight_prev = weight\n",
    "weighted_error = np.float64(0)\n",
    "for t in range(T): \n",
    "    for feature in range(dim):\n",
    "        weighted_error = np.float64(0)\n",
    "        threshold, sign, weighted_error = calculate_decision_stump_efficient(x, feature, weight, label)       \n",
    "        if weighted_error < err[t] :\n",
    "            err[t] = weighted_error\n",
    "            h[t][0] = threshold\n",
    "            h[t][1] = feature\n",
    "            h[t][2] = sign\n",
    "    alpha[t] = calculate_alpha(err[t])\n",
    "    classification = classify_dataset_against_weak_classifier(x[:, int(h[t][1]) ], h[t][0], h[t][2] )  \n",
    "    weight = update_weights(weight, alpha[t], classification, label)\n",
    "    weight = normalise_weights(weight )\n",
    "classifier_df = pd.DataFrame(h, columns=['threshold','feature','direction'])\n",
    "classifier_df['alpha'] = alpha\n",
    "threshold = 0\n",
    "model_name = \"Model 34\"\n",
    "store_result = evaluate_and_store_result(store_result, test_data, model_name, threshold, classifier_df)\n",
    "threshold = 5\n",
    "model_name = \"Model 35\"\n",
    "store_result = evaluate_and_store_result(store_result, test_data, model_name, threshold, classifier_df)\n",
    "threshold = -3\n",
    "model_name = \"Model 36\"\n",
    "store_result = evaluate_and_store_result(store_result, test_data, model_name, threshold, classifier_df)\n",
    "\n"
   ]
  },
  {
   "cell_type": "code",
   "execution_count": 111,
   "id": "9321a2f3",
   "metadata": {},
   "outputs": [
    {
     "name": "stdout",
     "output_type": "stream",
     "text": [
      "[[38 52]\n",
      " [ 5 16]]\n",
      "[[85  5]\n",
      " [15  6]]\n",
      "[[ 0 90]\n",
      " [ 0 21]]\n"
     ]
    }
   ],
   "source": [
    "train_data, test_data = split_train_test_data(data_no_line, 'Class', test_size=0.2, random_state=42)\n",
    "test_data=test_data.values\n",
    "label = train_data[\"Class\"].to_numpy()\n",
    "x = train_data.iloc[:, 1:-1].copy()\n",
    "x = x.values\n",
    "T = 38\n",
    "dim, N, h, alpha, weight, err = initialize_adaboost_parameters(x, T)\n",
    "temp_sum = np.zeros(N, dtype=np.float64)\n",
    "temp = np.zeros(N, dtype=np.float64)\n",
    "final_label = np.zeros(N, dtype=np.float64)\n",
    "misshits = np.array([None] * (T+1), dtype=float)\n",
    "misshits[0] = 1.0\n",
    "classification_boundaries = []\n",
    "weight_prev = weight\n",
    "weighted_error = np.float64(0)\n",
    "for t in range(T): \n",
    "    for feature in range(dim):\n",
    "        weighted_error = np.float64(0)\n",
    "        threshold, sign, weighted_error = calculate_decision_stump_efficient(x, feature, weight, label)       \n",
    "        if weighted_error < err[t] :\n",
    "            err[t] = weighted_error\n",
    "            h[t][0] = threshold\n",
    "            h[t][1] = feature\n",
    "            h[t][2] = sign\n",
    "    alpha[t] = calculate_alpha(err[t])\n",
    "    classification = classify_dataset_against_weak_classifier(x[:, int(h[t][1]) ], h[t][0], h[t][2] )  \n",
    "    weight = update_weights(weight, alpha[t], classification, label)\n",
    "    weight = normalise_weights(weight )\n",
    "classifier_df = pd.DataFrame(h, columns=['threshold','feature','direction'])\n",
    "classifier_df['alpha'] = alpha\n",
    "threshold = 0\n",
    "model_name = \"Model 37\"\n",
    "store_result = evaluate_and_store_result(store_result, test_data, model_name, threshold, classifier_df)\n",
    "threshold = 11\n",
    "model_name = \"Model 38\"\n",
    "store_result = evaluate_and_store_result(store_result, test_data, model_name, threshold, classifier_df)\n",
    "threshold = -3\n",
    "model_name = \"Model 39\"\n",
    "store_result = evaluate_and_store_result(store_result, test_data, model_name, threshold, classifier_df)\n",
    "\n"
   ]
  },
  {
   "cell_type": "code",
   "execution_count": 112,
   "id": "19dd9718",
   "metadata": {},
   "outputs": [
    {
     "name": "stdout",
     "output_type": "stream",
     "text": [
      "[[ 0 90]\n",
      " [ 0 21]]\n",
      "[[ 0 90]\n",
      " [ 0 21]]\n",
      "[[ 0 90]\n",
      " [ 0 21]]\n"
     ]
    }
   ],
   "source": [
    "T = 50\n",
    "dim, N, h, alpha, weight, err = initialize_adaboost_parameters(x, T)\n",
    "temp_sum = np.zeros(N, dtype=np.float64)\n",
    "temp = np.zeros(N, dtype=np.float64)\n",
    "final_label = np.zeros(N, dtype=np.float64)\n",
    "misshits = np.array([None] * (T+1), dtype=float)\n",
    "misshits[0] = 1.0\n",
    "classification_boundaries = []\n",
    "weight_prev = weight\n",
    "weighted_error = np.float64(0)\n",
    "for t in range(T): \n",
    "    for feature in range(dim):\n",
    "        weighted_error = np.float64(0)\n",
    "        threshold, sign, weighted_error = calculate_decision_stump_efficient(x, feature, weight, label)       \n",
    "        if weighted_error < err[t] :\n",
    "            err[t] = weighted_error\n",
    "            h[t][0] = threshold\n",
    "            h[t][1] = feature\n",
    "            h[t][2] = sign\n",
    "    alpha[t] = calculate_alpha(err[t])\n",
    "    classification = classify_dataset_against_weak_classifier(x[:, int(h[t][1]) ], h[t][0], h[t][2] )  \n",
    "    weight = update_weights(weight, alpha[t], classification, label)\n",
    "    weight = normalise_weights(weight )\n",
    "classifier_df = pd.DataFrame(h, columns=['threshold','feature','direction'])\n",
    "classifier_df['alpha'] = alpha\n",
    "threshold = 0\n",
    "model_name = \"Model 40\"\n",
    "store_result = evaluate_and_store_result(store_result, test_data, model_name, threshold, classifier_df)\n",
    "threshold = 5\n",
    "model_name = \"Model 41\"\n",
    "store_result = evaluate_and_store_result(store_result, test_data, model_name, threshold, classifier_df)\n",
    "threshold = -3\n",
    "model_name = \"Model 42\"\n",
    "store_result = evaluate_and_store_result(store_result, test_data, model_name, threshold, classifier_df)\n",
    "\n"
   ]
  },
  {
   "cell_type": "code",
   "execution_count": 113,
   "id": "5c86fcf9",
   "metadata": {},
   "outputs": [
    {
     "name": "stdout",
     "output_type": "stream",
     "text": [
      "[[ 0 90]\n",
      " [ 0 21]]\n",
      "[[ 0 90]\n",
      " [ 0 21]]\n",
      "[[ 0 90]\n",
      " [ 0 21]]\n"
     ]
    }
   ],
   "source": [
    "T = 100\n",
    "dim, N, h, alpha, weight, err = initialize_adaboost_parameters(x, T)\n",
    "temp_sum = np.zeros(N, dtype=np.float64)\n",
    "temp = np.zeros(N, dtype=np.float64)\n",
    "final_label = np.zeros(N, dtype=np.float64)\n",
    "misshits = np.array([None] * (T+1), dtype=float)\n",
    "misshits[0] = 1.0\n",
    "classification_boundaries = []\n",
    "weight_prev = weight\n",
    "weighted_error = np.float64(0)\n",
    "for t in range(T): \n",
    "    for feature in range(dim):\n",
    "        weighted_error = np.float64(0)\n",
    "        threshold, sign, weighted_error = calculate_decision_stump_efficient(x, feature, weight, label)       \n",
    "        if weighted_error < err[t] :\n",
    "            err[t] = weighted_error\n",
    "            h[t][0] = threshold\n",
    "            h[t][1] = feature\n",
    "            h[t][2] = sign\n",
    "    alpha[t] = calculate_alpha(err[t])\n",
    "    classification = classify_dataset_against_weak_classifier(x[:, int(h[t][1]) ], h[t][0], h[t][2] )  \n",
    "    weight = update_weights(weight, alpha[t], classification, label)\n",
    "    weight = normalise_weights(weight )\n",
    "classifier_df = pd.DataFrame(h, columns=['threshold','feature','direction'])\n",
    "classifier_df['alpha'] = alpha\n",
    "threshold = 0\n",
    "model_name = \"Model 43\"\n",
    "store_result = evaluate_and_store_result(store_result, test_data, model_name, threshold, classifier_df)\n",
    "threshold = 5\n",
    "model_name = \"Model 44\"\n",
    "store_result = evaluate_and_store_result(store_result, test_data, model_name, threshold, classifier_df)\n",
    "threshold = -3\n",
    "model_name = \"Model 45\"\n",
    "store_result = evaluate_and_store_result(store_result, test_data, model_name, threshold, classifier_df)\n",
    "\n"
   ]
  },
  {
   "cell_type": "code",
   "execution_count": 114,
   "id": "2d0e724d",
   "metadata": {},
   "outputs": [
    {
     "name": "stdout",
     "output_type": "stream",
     "text": [
      "[[37 65]\n",
      " [ 2 20]]\n",
      "[[102   0]\n",
      " [ 22   0]]\n",
      "[[  0 102]\n",
      " [  0  22]]\n"
     ]
    }
   ],
   "source": [
    "train_data, test_data = split_train_test_data(agingtable, 'Class', test_size=0.2, random_state=42)\n",
    "test_data=test_data.values\n",
    "label = train_data[\"Class\"].to_numpy()\n",
    "x = train_data.iloc[:, 1:-1].copy()\n",
    "x = x.values\n",
    "T = 10\n",
    "dim, N, h, alpha, weight, err = initialize_adaboost_parameters(x, T)\n",
    "temp_sum = np.zeros(N, dtype=np.float64)\n",
    "temp = np.zeros(N, dtype=np.float64)\n",
    "final_label = np.zeros(N, dtype=np.float64)\n",
    "misshits = np.array([None] * (T+1), dtype=float)\n",
    "misshits[0] = 1.0\n",
    "classification_boundaries = []\n",
    "weight_prev = weight\n",
    "weighted_error = np.float64(0)\n",
    "for t in range(T): \n",
    "    for feature in range(dim):\n",
    "        weighted_error = np.float64(0)\n",
    "        threshold, sign, weighted_error = calculate_decision_stump_efficient(x, feature, weight, label)       \n",
    "        if weighted_error < err[t] :\n",
    "            err[t] = weighted_error\n",
    "            h[t][0] = threshold\n",
    "            h[t][1] = feature\n",
    "            h[t][2] = sign\n",
    "    alpha[t] = calculate_alpha(err[t])\n",
    "    classification = classify_dataset_against_weak_classifier(x[:, int(h[t][1]) ], h[t][0], h[t][2] )  \n",
    "    weight = update_weights(weight, alpha[t], classification, label)\n",
    "    weight = normalise_weights(weight )\n",
    "classifier_df = pd.DataFrame(h, columns=['threshold','feature','direction'])\n",
    "classifier_df['alpha'] = alpha\n",
    "threshold = 0\n",
    "model_name = \"Model 46\"\n",
    "store_result = evaluate_and_store_result(store_result, test_data, model_name, threshold, classifier_df)\n",
    "threshold = 5\n",
    "model_name = \"Model 47\"\n",
    "store_result = evaluate_and_store_result(store_result, test_data, model_name, threshold, classifier_df)\n",
    "threshold = -3\n",
    "model_name = \"Model 48\"\n",
    "store_result = evaluate_and_store_result(store_result, test_data, model_name, threshold, classifier_df)\n",
    "\n"
   ]
  },
  {
   "cell_type": "code",
   "execution_count": 115,
   "id": "b3de2577",
   "metadata": {},
   "outputs": [
    {
     "name": "stdout",
     "output_type": "stream",
     "text": [
      "[[15 87]\n",
      " [ 1 21]]\n",
      "[[57 45]\n",
      " [16  6]]\n",
      "[[  0 102]\n",
      " [  0  22]]\n"
     ]
    }
   ],
   "source": [
    "T = 50\n",
    "dim, N, h, alpha, weight, err = initialize_adaboost_parameters(x, T)\n",
    "temp_sum = np.zeros(N, dtype=np.float64)\n",
    "temp = np.zeros(N, dtype=np.float64)\n",
    "final_label = np.zeros(N, dtype=np.float64)\n",
    "misshits = np.array([None] * (T+1), dtype=float)\n",
    "misshits[0] = 1.0\n",
    "classification_boundaries = []\n",
    "weight_prev = weight\n",
    "weighted_error = np.float64(0)\n",
    "for t in range(T): \n",
    "    for feature in range(dim):\n",
    "        weighted_error = np.float64(0)\n",
    "        threshold, sign, weighted_error = calculate_decision_stump_efficient(x, feature, weight, label)       \n",
    "        if weighted_error < err[t] :\n",
    "            err[t] = weighted_error\n",
    "            h[t][0] = threshold\n",
    "            h[t][1] = feature\n",
    "            h[t][2] = sign\n",
    "    alpha[t] = calculate_alpha(err[t])\n",
    "    classification = classify_dataset_against_weak_classifier(x[:, int(h[t][1]) ], h[t][0], h[t][2] )  \n",
    "    weight = update_weights(weight, alpha[t], classification, label)\n",
    "    weight = normalise_weights(weight )\n",
    "classifier_df = pd.DataFrame(h, columns=['threshold','feature','direction'])\n",
    "classifier_df['alpha'] = alpha\n",
    "threshold = 0\n",
    "model_name = \"Model 49\"\n",
    "store_result = evaluate_and_store_result(store_result, test_data, model_name, threshold, classifier_df)\n",
    "threshold = 5\n",
    "model_name = \"Model 50\"\n",
    "store_result = evaluate_and_store_result(store_result, test_data, model_name, threshold, classifier_df)\n",
    "threshold = -3\n",
    "model_name = \"Model 51\"\n",
    "store_result = evaluate_and_store_result(store_result, test_data, model_name, threshold, classifier_df)\n"
   ]
  },
  {
   "cell_type": "code",
   "execution_count": 116,
   "id": "45edf4a2",
   "metadata": {},
   "outputs": [
    {
     "name": "stdout",
     "output_type": "stream",
     "text": [
      "[[37 65]\n",
      " [ 2 20]]\n",
      "[[102   0]\n",
      " [ 22   0]]\n",
      "[[  0 102]\n",
      " [  0  22]]\n"
     ]
    }
   ],
   "source": [
    "T = 10\n",
    "dim, N, h, alpha, weight, err = initialize_adaboost_parameters(x, T)\n",
    "temp_sum = np.zeros(N, dtype=np.float64)\n",
    "temp = np.zeros(N, dtype=np.float64)\n",
    "final_label = np.zeros(N, dtype=np.float64)\n",
    "misshits = np.array([None] * (T+1), dtype=float)\n",
    "misshits[0] = 1.0\n",
    "classification_boundaries = []\n",
    "weight_prev = weight\n",
    "weighted_error = np.float64(0)\n",
    "for t in range(T): \n",
    "    for feature in range(dim):\n",
    "        weighted_error = np.float64(0)\n",
    "        threshold, sign, weighted_error = calculate_decision_stump_efficient(x, feature, weight, label)       \n",
    "        if weighted_error < err[t] :\n",
    "            err[t] = weighted_error\n",
    "            h[t][0] = threshold\n",
    "            h[t][1] = feature\n",
    "            h[t][2] = sign\n",
    "    alpha[t] = calculate_alpha(err[t])\n",
    "    classification = classify_dataset_against_weak_classifier(x[:, int(h[t][1]) ], h[t][0], h[t][2] )  \n",
    "    weight = update_weights(weight, alpha[t], classification, label)\n",
    "    weight = normalise_weights(weight )\n",
    "classifier_df = pd.DataFrame(h, columns=['threshold','feature','direction'])\n",
    "classifier_df['alpha'] = alpha\n",
    "threshold = 0\n",
    "model_name = \"Model 52\"\n",
    "store_result = evaluate_and_store_result(store_result, test_data, model_name, threshold, classifier_df)\n",
    "threshold = 5\n",
    "model_name = \"Model 53\"\n",
    "store_result = evaluate_and_store_result(store_result, test_data, model_name, threshold, classifier_df)\n",
    "threshold = -3\n",
    "model_name = \"Model 54\"\n",
    "store_result = evaluate_and_store_result(store_result, test_data, model_name, threshold, classifier_df)\n"
   ]
  },
  {
   "cell_type": "code",
   "execution_count": 117,
   "id": "83240628",
   "metadata": {
    "scrolled": true
   },
   "outputs": [],
   "source": [
    "store_result.drop(['Precision'], axis=1, inplace=True)\n"
   ]
  },
  {
   "cell_type": "code",
   "execution_count": 118,
   "id": "c7926ac0",
   "metadata": {},
   "outputs": [
    {
     "name": "stdout",
     "output_type": "stream",
     "text": [
      "       model  TN FP TP  FN Precision\n",
      "37  Model 38  85  5  6  15  0.545455\n"
     ]
    }
   ],
   "source": [
    "store_result['Precision'] = store_result['TP'] / (store_result['TP'] + store_result['FP']).replace(0, pd.NA)\n",
    "\n",
    "# Create a new DataFrame excluding rows with NA values in 'Precision'\n",
    "valid_precision_models = store_result.dropna(subset=['Precision'])\n",
    "\n",
    "\n",
    "# Find the model with the highest precision\n",
    "best_model = valid_precision_models[valid_precision_models['Precision'] == valid_precision_models['Precision'].max()]\n",
    "print(best_model)"
   ]
  },
  {
   "cell_type": "markdown",
   "id": "68bd5a1c",
   "metadata": {},
   "source": [
    "One of the dataframes performed better, specifically the dataset without the missing rows. In this case, the chosen iteration was 38, and the threshold value was set to 11. This configuration resulted in improved model performance."
   ]
  },
  {
   "cell_type": "markdown",
   "id": "8f56de27",
   "metadata": {},
   "source": [
    "![score](score.png)"
   ]
  },
  {
   "cell_type": "code",
   "execution_count": null,
   "id": "3e60e00e",
   "metadata": {},
   "outputs": [],
   "source": []
  },
  {
   "cell_type": "markdown",
   "id": "e36057e8",
   "metadata": {},
   "source": [
    "## Task 3"
   ]
  },
  {
   "cell_type": "code",
   "execution_count": 138,
   "id": "8f487df2",
   "metadata": {},
   "outputs": [],
   "source": [
    "agingtable = AgingTable"
   ]
  },
  {
   "cell_type": "code",
   "execution_count": 139,
   "id": "d99473e8",
   "metadata": {},
   "outputs": [],
   "source": [
    "def split_target(df, target_column):\n",
    "    X = df.drop(columns=[target_column])\n",
    "    y = df[target_column]\n",
    "    return X, y"
   ]
  },
  {
   "cell_type": "code",
   "execution_count": 140,
   "id": "5a6f7d0a",
   "metadata": {},
   "outputs": [],
   "source": [
    "from sklearn.model_selection import train_test_split\n",
    "\n",
    "def split_train_test_stratified(X, y, test_size=0.8, random_state=42):\n",
    "    positive_indices = y[y == 1].index\n",
    "    negative_indices = y[y == -1].index\n",
    "    positive_indices = positive_indices.to_numpy()\n",
    "    negative_indices = negative_indices.to_numpy() \n",
    "    np.random.seed(random_state)\n",
    "    np.random.shuffle(positive_indices)\n",
    "    np.random.shuffle(negative_indices)\n",
    "\n",
    "    test_size_positive = int(test_size * len(positive_indices))\n",
    "    test_size_negative = int(test_size * len(negative_indices))\n",
    "    \n",
    "    train_positive_indices, test_positive_indices = positive_indices[test_size_positive:], positive_indices[:test_size_positive]\n",
    "    train_negative_indices, test_negative_indices = negative_indices[test_size_negative:], negative_indices[:test_size_negative]\n",
    "\n",
    "    train_indices = np.concatenate((train_positive_indices, train_negative_indices))\n",
    "    test_indices = np.concatenate((test_positive_indices, test_negative_indices))\n",
    "    \n",
    "    X_train, y_train = X.loc[train_indices], y.loc[train_indices]\n",
    "    X_test, y_test = X.loc[test_indices], y.loc[test_indices]\n",
    "    \n",
    "    return X_train, X_test, y_train, y_test\n"
   ]
  },
  {
   "cell_type": "code",
   "execution_count": 141,
   "id": "ebaa4e2f",
   "metadata": {},
   "outputs": [],
   "source": [
    "def evaluate_and_tune_random_forest(X_train, X_test, y_train, y_test, random_state=None):\n",
    "    model = RandomForestClassifier(random_state=random_state)\n",
    "    param_grid = {\n",
    "        'n_estimators': [ 100, 150],\n",
    "        'max_depth': [ 10, 20, 30]\n",
    "    }\n",
    "    grid_search = GridSearchCV(estimator=model, param_grid=param_grid, cv=5)\n",
    "    grid_search.fit(X_train, y_train)\n",
    "    best_params = grid_search.best_params_\n",
    "    best_model = RandomForestClassifier(n_estimators=best_params['n_estimators'], max_depth=best_params['max_depth'], random_state=random_state)\n",
    "    best_model.fit(X_train, y_train)\n",
    "    \n",
    "    y_pred = best_model.predict(X_test)\n",
    "    y_prob = best_model.predict_proba(X_test)[:, 1]\n",
    "    \n",
    "    accuracy = accuracy_score(y_test, y_pred)\n",
    "    confusion = confusion_matrix(y_test, y_pred)\n",
    "    report = classification_report(y_test, y_pred)\n",
    "    roc_auc = roc_auc_score(y_test, y_prob)\n",
    "    precision, recall, _ = precision_recall_curve(y_test, y_prob)\n",
    "    pr_auc = auc(recall, precision)\n",
    "    \n",
    "    print(f\"Accuracy: {accuracy}\")\n",
    "    print(\"Confusion Matrix:\")\n",
    "    print(confusion)\n",
    "    print(\"Classification report:\")\n",
    "    print(report)\n",
    "    print(f\"AUC-ROC: {roc_auc}\")\n",
    "    print(f\"AUC-PR: {pr_auc}\")\n",
    "    \n",
    "    return {\n",
    "        \"Accuracy\": accuracy,\n",
    "        \"Confusion Matrix\": confusion,\n",
    "        \"Classification report\": report,\n",
    "        \"The best hyperparameter\": best_params\n",
    "    }\n",
    "\n",
    "\n"
   ]
  },
  {
   "cell_type": "code",
   "execution_count": 155,
   "id": "1299b701",
   "metadata": {},
   "outputs": [],
   "source": [
    "X, y = split_target(agingtable , 'Class')"
   ]
  },
  {
   "cell_type": "code",
   "execution_count": 156,
   "id": "6a3037f6",
   "metadata": {},
   "outputs": [],
   "source": [
    "X_train, X_test, y_train, y_test = split_train_test_stratified(X, y, test_size=0.2, random_state=42)"
   ]
  },
  {
   "cell_type": "code",
   "execution_count": 166,
   "id": "4e7e6677",
   "metadata": {
    "scrolled": true
   },
   "outputs": [
    {
     "name": "stdout",
     "output_type": "stream",
     "text": [
      "Acurácia: 0.9180327868852459\n",
      "Matriz de Confusão:\n",
      "[[99  2]\n",
      " [ 8 13]]\n",
      "Relatório de Classificação:\n",
      "              precision    recall  f1-score   support\n",
      "\n",
      "        -1.0       0.93      0.98      0.95       101\n",
      "         1.0       0.87      0.62      0.72        21\n",
      "\n",
      "    accuracy                           0.92       122\n",
      "   macro avg       0.90      0.80      0.84       122\n",
      "weighted avg       0.92      0.92      0.91       122\n",
      "\n",
      "AUC-ROC: 0.9377652050919377\n",
      "AUC-PR: 0.8129107391805737\n",
      "Resultado final: {'Acurácia': 0.9180327868852459, 'Matriz de Confusão': array([[99,  2],\n",
      "       [ 8, 13]]), 'Relatório de Classificação': '              precision    recall  f1-score   support\\n\\n        -1.0       0.93      0.98      0.95       101\\n         1.0       0.87      0.62      0.72        21\\n\\n    accuracy                           0.92       122\\n   macro avg       0.90      0.80      0.84       122\\nweighted avg       0.92      0.92      0.91       122\\n', 'Melhores Hiperparâmetros': {'max_depth': 10, 'n_estimators': 100}}\n"
     ]
    }
   ],
   "source": [
    "results = evaluate_and_tune_random_forest(X_train, X_test, y_train, y_test)\n",
    "print(\"Final:\", results)\n"
   ]
  },
  {
   "cell_type": "code",
   "execution_count": 167,
   "id": "f02fca0a",
   "metadata": {},
   "outputs": [
    {
     "name": "stdout",
     "output_type": "stream",
     "text": [
      "Acurácia: 0.9426229508196722\n",
      "Matriz de Confusão:\n",
      "[[99  2]\n",
      " [ 5 16]]\n",
      "Relatório de Classificação:\n",
      "              precision    recall  f1-score   support\n",
      "\n",
      "        -1.0       0.95      0.98      0.97       101\n",
      "         1.0       0.89      0.76      0.82        21\n",
      "\n",
      "    accuracy                           0.94       122\n",
      "   macro avg       0.92      0.87      0.89       122\n",
      "weighted avg       0.94      0.94      0.94       122\n",
      "\n",
      "AUC-ROC: 0.9021687883074022\n",
      "AUC-PR: 0.8250423031656314\n",
      "Resultado final: {'Acurácia': 0.9426229508196722, 'Matriz de Confusão': array([[99,  2],\n",
      "       [ 5, 16]]), 'Relatório de Classificação': '              precision    recall  f1-score   support\\n\\n        -1.0       0.95      0.98      0.97       101\\n         1.0       0.89      0.76      0.82        21\\n\\n    accuracy                           0.94       122\\n   macro avg       0.92      0.87      0.89       122\\nweighted avg       0.94      0.94      0.94       122\\n', 'Melhores Hiperparâmetros': {'max_depth': 30, 'n_estimators': 100}}\n"
     ]
    }
   ],
   "source": [
    "X, y = split_target(data_no_variable , 'Class')\n",
    "X_train, X_test, y_train, y_test = split_train_test_stratified(X, y, test_size=0.2, random_state=42)\n",
    "results = evaluate_and_tune_random_forest(X_train, X_test, y_train, y_test)\n",
    "print(\"Final:\", results)\n"
   ]
  },
  {
   "cell_type": "code",
   "execution_count": 171,
   "id": "131a1f2e",
   "metadata": {},
   "outputs": [
    {
     "name": "stdout",
     "output_type": "stream",
     "text": [
      "Acurácia: 0.9262295081967213\n",
      "Matriz de Confusão:\n",
      "[[99  2]\n",
      " [ 7 14]]\n",
      "Relatório de Classificação:\n",
      "              precision    recall  f1-score   support\n",
      "\n",
      "        -1.0       0.93      0.98      0.96       101\n",
      "         1.0       0.88      0.67      0.76        21\n",
      "\n",
      "    accuracy                           0.93       122\n",
      "   macro avg       0.90      0.82      0.86       122\n",
      "weighted avg       0.92      0.93      0.92       122\n",
      "\n",
      "AUC-ROC: 0.9276284771334276\n",
      "AUC-PR: 0.790855457197841\n",
      "Resultado final: {'Acurácia': 0.9262295081967213, 'Matriz de Confusão': array([[99,  2],\n",
      "       [ 7, 14]]), 'Relatório de Classificação': '              precision    recall  f1-score   support\\n\\n        -1.0       0.93      0.98      0.96       101\\n         1.0       0.88      0.67      0.76        21\\n\\n    accuracy                           0.93       122\\n   macro avg       0.90      0.82      0.86       122\\nweighted avg       0.92      0.93      0.92       122\\n', 'Melhores Hiperparâmetros': {'max_depth': 20, 'n_estimators': 150}}\n"
     ]
    }
   ],
   "source": [
    "X, y = split_target(data_no_correlation , 'Class')\n",
    "X_train, X_test, y_train, y_test = split_train_test_stratified(X, y, test_size=0.2, random_state=42)\n",
    "results = evaluate_and_tune_random_forest(X_train, X_test, y_train, y_test)\n",
    "print(\"Final:\", results)"
   ]
  },
  {
   "cell_type": "code",
   "execution_count": 172,
   "id": "4b3b5183",
   "metadata": {},
   "outputs": [
    {
     "name": "stdout",
     "output_type": "stream",
     "text": [
      "Acurácia: 0.9426229508196722\n",
      "Matriz de Confusão:\n",
      "[[99  2]\n",
      " [ 5 16]]\n",
      "Relatório de Classificação:\n",
      "              precision    recall  f1-score   support\n",
      "\n",
      "        -1.0       0.95      0.98      0.97       101\n",
      "         1.0       0.89      0.76      0.82        21\n",
      "\n",
      "    accuracy                           0.94       122\n",
      "   macro avg       0.92      0.87      0.89       122\n",
      "weighted avg       0.94      0.94      0.94       122\n",
      "\n",
      "AUC-ROC: 0.9123055162659123\n",
      "AUC-PR: 0.7922697261832916\n",
      "Resultado final: {'Acurácia': 0.9426229508196722, 'Matriz de Confusão': array([[99,  2],\n",
      "       [ 5, 16]]), 'Relatório de Classificação': '              precision    recall  f1-score   support\\n\\n        -1.0       0.95      0.98      0.97       101\\n         1.0       0.89      0.76      0.82        21\\n\\n    accuracy                           0.94       122\\n   macro avg       0.92      0.87      0.89       122\\nweighted avg       0.94      0.94      0.94       122\\n', 'Melhores Hiperparâmetros': {'max_depth': 30, 'n_estimators': 100}}\n"
     ]
    }
   ],
   "source": [
    "X, y = split_target(data_no_vari_correlation , 'Class')\n",
    "X_train, X_test, y_train, y_test = split_train_test_stratified(X, y, test_size=0.2, random_state=42)\n",
    "results = evaluate_and_tune_random_forest(X_train, X_test, y_train, y_test)\n",
    "print(\"Final:\", results)"
   ]
  },
  {
   "cell_type": "code",
   "execution_count": 173,
   "id": "37eb612a",
   "metadata": {},
   "outputs": [
    {
     "name": "stdout",
     "output_type": "stream",
     "text": [
      "Acurácia: 0.8715596330275229\n",
      "Matriz de Confusão:\n",
      "[[83  6]\n",
      " [ 8 12]]\n",
      "Relatório de Classificação:\n",
      "              precision    recall  f1-score   support\n",
      "\n",
      "        -1.0       0.91      0.93      0.92        89\n",
      "         1.0       0.67      0.60      0.63        20\n",
      "\n",
      "    accuracy                           0.87       109\n",
      "   macro avg       0.79      0.77      0.78       109\n",
      "weighted avg       0.87      0.87      0.87       109\n",
      "\n",
      "AUC-ROC: 0.9325842696629214\n",
      "AUC-PR: 0.6993429998698888\n",
      "Resultado final: {'Acurácia': 0.8715596330275229, 'Matriz de Confusão': array([[83,  6],\n",
      "       [ 8, 12]]), 'Relatório de Classificação': '              precision    recall  f1-score   support\\n\\n        -1.0       0.91      0.93      0.92        89\\n         1.0       0.67      0.60      0.63        20\\n\\n    accuracy                           0.87       109\\n   macro avg       0.79      0.77      0.78       109\\nweighted avg       0.87      0.87      0.87       109\\n', 'Melhores Hiperparâmetros': {'max_depth': 10, 'n_estimators': 100}}\n"
     ]
    }
   ],
   "source": [
    "X, y = split_target(data_no_line , 'Class')\n",
    "X_train, X_test, y_train, y_test = split_train_test_stratified(X, y, test_size=0.2, random_state=42)\n",
    "results = evaluate_and_tune_random_forest(X_train, X_test, y_train, y_test)\n",
    "print(\"Final:\", results)"
   ]
  },
  {
   "cell_type": "code",
   "execution_count": 168,
   "id": "b259628d",
   "metadata": {},
   "outputs": [
    {
     "name": "stdout",
     "output_type": "stream",
     "text": [
      "   Feature  Importance\n",
      "32      DU    0.103867\n",
      "47      FL    0.056052\n",
      "29      DI    0.046168\n",
      "25      DA    0.042349\n",
      "26      DE    0.039412\n",
      "8       BC    0.037422\n",
      "21      CR    0.035852\n",
      "0       AB    0.032209\n",
      "44     FD     0.030999\n",
      "55      GL    0.028956\n",
      "48      FR    0.028127\n",
      "1       AF    0.028021\n",
      "38      EH    0.025927\n",
      "36      EE    0.024701\n",
      "28      DH    0.024239\n",
      "12      BQ    0.021539\n",
      "16      CC    0.021109\n",
      "45      FE    0.020200\n",
      "19      CH    0.015981\n",
      "13      BR    0.015789\n",
      "30      DL    0.015307\n",
      "3       AM    0.015260\n",
      "17     CD     0.015059\n",
      "46      FI    0.014416\n",
      "34      DY    0.013848\n",
      "10      BN    0.013625\n",
      "9      BD     0.012595\n",
      "52      GF    0.011793\n",
      "53      GH    0.011547\n",
      "22      CS    0.011315\n",
      "43      FC    0.010594\n",
      "31      DN    0.010026\n",
      "27      DF    0.009973\n",
      "35      EB    0.009817\n",
      "23      CU    0.009703\n",
      "42      EU    0.009624\n",
      "41      EP    0.009300\n",
      "50      GB    0.009137\n",
      "11      BP    0.009082\n",
      "18      CF    0.009008\n",
      "54      GI    0.008517\n",
      "5       AX    0.007976\n",
      "37      EG    0.007890\n",
      "15      CB    0.007850\n",
      "7       AZ    0.007711\n",
      "2       AH    0.007604\n",
      "49      FS    0.005862\n",
      "4       AR    0.005530\n",
      "40      EL    0.005470\n",
      "51      GE    0.005447\n",
      "33      DV    0.004402\n",
      "14      BZ    0.004002\n",
      "24     CW     0.003840\n",
      "20      CL    0.003837\n",
      "6       AY    0.003820\n",
      "39      EJ    0.000298\n"
     ]
    }
   ],
   "source": [
    "model = RandomForestClassifier(random_state=42)\n",
    "X, y = split_target(agingtable , 'Class')\n",
    "X_train, X_test, y_train, y_test = split_train_test_stratified(X, y, test_size=0.2, random_state=42)\n",
    "model.fit(X_train, y_train)\n",
    "feature_importances = model.feature_importances_\n",
    "feature_importances_df = pd.DataFrame({'Feature': X.columns, 'Importance': feature_importances})\n",
    "feature_importances_df = feature_importances_df.sort_values(by='Importance', ascending=False)\n",
    "print(feature_importances_df)"
   ]
  },
  {
   "cell_type": "code",
   "execution_count": 169,
   "id": "7c68bba5",
   "metadata": {},
   "outputs": [],
   "source": [
    "feature_names = [\n",
    "    \"DU\", \"FL\", \"DI\", \"DA\", \"DE\", \"BC\", \"CR\", \"AB\", \"FD \", \"GL\", \n",
    "    \"FR\", \"AF\", \"EH\", \"EE\", \"DH\", \"BQ\", \"CC\", \"FE\", \"CH\", \"BR\",\n",
    "    \"DL\", \"AM\", \"CD \", \"FI\", \"DY\", \"BN\", \"BD \", \"GF\", \"GH\", \"CS\",\n",
    "    \"FC\", \"DN\", \"DV\", 'Class'\n",
    "]\n",
    "new_dataframe = agingtable[feature_names]\n"
   ]
  },
  {
   "cell_type": "code",
   "execution_count": 170,
   "id": "a969c0c4",
   "metadata": {},
   "outputs": [
    {
     "name": "stdout",
     "output_type": "stream",
     "text": [
      "Acurácia: 0.9016393442622951\n",
      "Matriz de Confusão:\n",
      "[[97  4]\n",
      " [ 8 13]]\n",
      "Relatório de Classificação:\n",
      "              precision    recall  f1-score   support\n",
      "\n",
      "        -1.0       0.92      0.96      0.94       101\n",
      "         1.0       0.76      0.62      0.68        21\n",
      "\n",
      "    accuracy                           0.90       122\n",
      "   macro avg       0.84      0.79      0.81       122\n",
      "weighted avg       0.90      0.90      0.90       122\n",
      "\n",
      "AUC-ROC: 0.925035360678925\n",
      "AUC-PR: 0.8020321361377789\n",
      "Resultado final: {'Acurácia': 0.9016393442622951, 'Matriz de Confusão': array([[97,  4],\n",
      "       [ 8, 13]]), 'Relatório de Classificação': '              precision    recall  f1-score   support\\n\\n        -1.0       0.92      0.96      0.94       101\\n         1.0       0.76      0.62      0.68        21\\n\\n    accuracy                           0.90       122\\n   macro avg       0.84      0.79      0.81       122\\nweighted avg       0.90      0.90      0.90       122\\n', 'Melhores Hiperparâmetros': {'max_depth': 10, 'n_estimators': 100}}\n"
     ]
    }
   ],
   "source": [
    "X, y = split_target(new_dataframe , 'Class')\n",
    "X_train, X_test, y_train, y_test = split_train_test_stratified(X, y, test_size=0.2, random_state=42)\n",
    "results = evaluate_and_tune_random_forest(X_train, X_test, y_train, y_test)\n",
    "print(\"Final:\", results)"
   ]
  },
  {
   "cell_type": "markdown",
   "id": "fdc60279",
   "metadata": {},
   "source": [
    "After experimenting with the Random Forest classification on the previously created dataframes, the one that yielded the best performance was the dataframe excluding high correlation variables along with the variables BQ and EL. This indicates that the selected dataframe, which excluded highly correlated variables and variables BQ and EL, along with the specified hyperparameters, achieved the highest precision, recall, and F1-score for the classification task.\n",
    "              precision    recall  f1-score   support\n",
    "\n",
    "        -1.0       0.92      0.96      0.94       101\n",
    "         1.0       0.76      0.62      0.68        21\n",
    "       {'max_depth': 10, 'n_estimators': 100}"
   ]
  },
  {
   "cell_type": "code",
   "execution_count": 175,
   "id": "5e38cd53",
   "metadata": {},
   "outputs": [],
   "source": [
    "test.drop(['Id','EJ', 'EH', 'DV', 'BC', 'EL', 'BQ'], axis=1, inplace=True)"
   ]
  },
  {
   "cell_type": "code",
   "execution_count": 176,
   "id": "7fbaee82",
   "metadata": {
    "scrolled": true
   },
   "outputs": [
    {
     "data": {
      "text/html": [
       "<div>\n",
       "<style scoped>\n",
       "    .dataframe tbody tr th:only-of-type {\n",
       "        vertical-align: middle;\n",
       "    }\n",
       "\n",
       "    .dataframe tbody tr th {\n",
       "        vertical-align: top;\n",
       "    }\n",
       "\n",
       "    .dataframe thead th {\n",
       "        text-align: right;\n",
       "    }\n",
       "</style>\n",
       "<table border=\"1\" class=\"dataframe\">\n",
       "  <thead>\n",
       "    <tr style=\"text-align: right;\">\n",
       "      <th></th>\n",
       "      <th>AB</th>\n",
       "      <th>AF</th>\n",
       "      <th>AH</th>\n",
       "      <th>AM</th>\n",
       "      <th>AR</th>\n",
       "      <th>AX</th>\n",
       "      <th>AY</th>\n",
       "      <th>AZ</th>\n",
       "      <th>BD</th>\n",
       "      <th>BN</th>\n",
       "      <th>...</th>\n",
       "      <th>FI</th>\n",
       "      <th>FL</th>\n",
       "      <th>FR</th>\n",
       "      <th>FS</th>\n",
       "      <th>GB</th>\n",
       "      <th>GE</th>\n",
       "      <th>GF</th>\n",
       "      <th>GH</th>\n",
       "      <th>GI</th>\n",
       "      <th>GL</th>\n",
       "    </tr>\n",
       "  </thead>\n",
       "  <tbody>\n",
       "    <tr>\n",
       "      <th>0</th>\n",
       "      <td>0.0</td>\n",
       "      <td>0.0</td>\n",
       "      <td>0.0</td>\n",
       "      <td>0.0</td>\n",
       "      <td>0.0</td>\n",
       "      <td>0.0</td>\n",
       "      <td>0.0</td>\n",
       "      <td>0.0</td>\n",
       "      <td>0.0</td>\n",
       "      <td>0.0</td>\n",
       "      <td>...</td>\n",
       "      <td>0.0</td>\n",
       "      <td>0.0</td>\n",
       "      <td>0.0</td>\n",
       "      <td>0.0</td>\n",
       "      <td>0.0</td>\n",
       "      <td>0.0</td>\n",
       "      <td>0.0</td>\n",
       "      <td>0.0</td>\n",
       "      <td>0.0</td>\n",
       "      <td>0.0</td>\n",
       "    </tr>\n",
       "    <tr>\n",
       "      <th>1</th>\n",
       "      <td>0.0</td>\n",
       "      <td>0.0</td>\n",
       "      <td>0.0</td>\n",
       "      <td>0.0</td>\n",
       "      <td>0.0</td>\n",
       "      <td>0.0</td>\n",
       "      <td>0.0</td>\n",
       "      <td>0.0</td>\n",
       "      <td>0.0</td>\n",
       "      <td>0.0</td>\n",
       "      <td>...</td>\n",
       "      <td>0.0</td>\n",
       "      <td>0.0</td>\n",
       "      <td>0.0</td>\n",
       "      <td>0.0</td>\n",
       "      <td>0.0</td>\n",
       "      <td>0.0</td>\n",
       "      <td>0.0</td>\n",
       "      <td>0.0</td>\n",
       "      <td>0.0</td>\n",
       "      <td>0.0</td>\n",
       "    </tr>\n",
       "    <tr>\n",
       "      <th>2</th>\n",
       "      <td>0.0</td>\n",
       "      <td>0.0</td>\n",
       "      <td>0.0</td>\n",
       "      <td>0.0</td>\n",
       "      <td>0.0</td>\n",
       "      <td>0.0</td>\n",
       "      <td>0.0</td>\n",
       "      <td>0.0</td>\n",
       "      <td>0.0</td>\n",
       "      <td>0.0</td>\n",
       "      <td>...</td>\n",
       "      <td>0.0</td>\n",
       "      <td>0.0</td>\n",
       "      <td>0.0</td>\n",
       "      <td>0.0</td>\n",
       "      <td>0.0</td>\n",
       "      <td>0.0</td>\n",
       "      <td>0.0</td>\n",
       "      <td>0.0</td>\n",
       "      <td>0.0</td>\n",
       "      <td>0.0</td>\n",
       "    </tr>\n",
       "    <tr>\n",
       "      <th>3</th>\n",
       "      <td>0.0</td>\n",
       "      <td>0.0</td>\n",
       "      <td>0.0</td>\n",
       "      <td>0.0</td>\n",
       "      <td>0.0</td>\n",
       "      <td>0.0</td>\n",
       "      <td>0.0</td>\n",
       "      <td>0.0</td>\n",
       "      <td>0.0</td>\n",
       "      <td>0.0</td>\n",
       "      <td>...</td>\n",
       "      <td>0.0</td>\n",
       "      <td>0.0</td>\n",
       "      <td>0.0</td>\n",
       "      <td>0.0</td>\n",
       "      <td>0.0</td>\n",
       "      <td>0.0</td>\n",
       "      <td>0.0</td>\n",
       "      <td>0.0</td>\n",
       "      <td>0.0</td>\n",
       "      <td>0.0</td>\n",
       "    </tr>\n",
       "    <tr>\n",
       "      <th>4</th>\n",
       "      <td>0.0</td>\n",
       "      <td>0.0</td>\n",
       "      <td>0.0</td>\n",
       "      <td>0.0</td>\n",
       "      <td>0.0</td>\n",
       "      <td>0.0</td>\n",
       "      <td>0.0</td>\n",
       "      <td>0.0</td>\n",
       "      <td>0.0</td>\n",
       "      <td>0.0</td>\n",
       "      <td>...</td>\n",
       "      <td>0.0</td>\n",
       "      <td>0.0</td>\n",
       "      <td>0.0</td>\n",
       "      <td>0.0</td>\n",
       "      <td>0.0</td>\n",
       "      <td>0.0</td>\n",
       "      <td>0.0</td>\n",
       "      <td>0.0</td>\n",
       "      <td>0.0</td>\n",
       "      <td>0.0</td>\n",
       "    </tr>\n",
       "  </tbody>\n",
       "</table>\n",
       "<p>5 rows × 50 columns</p>\n",
       "</div>"
      ],
      "text/plain": [
       "    AB   AF   AH   AM   AR   AX   AY   AZ  BD    BN  ...   FI   FL   FR   FS  \\\n",
       "0  0.0  0.0  0.0  0.0  0.0  0.0  0.0  0.0  0.0  0.0  ...  0.0  0.0  0.0  0.0   \n",
       "1  0.0  0.0  0.0  0.0  0.0  0.0  0.0  0.0  0.0  0.0  ...  0.0  0.0  0.0  0.0   \n",
       "2  0.0  0.0  0.0  0.0  0.0  0.0  0.0  0.0  0.0  0.0  ...  0.0  0.0  0.0  0.0   \n",
       "3  0.0  0.0  0.0  0.0  0.0  0.0  0.0  0.0  0.0  0.0  ...  0.0  0.0  0.0  0.0   \n",
       "4  0.0  0.0  0.0  0.0  0.0  0.0  0.0  0.0  0.0  0.0  ...  0.0  0.0  0.0  0.0   \n",
       "\n",
       "    GB   GE   GF   GH   GI   GL  \n",
       "0  0.0  0.0  0.0  0.0  0.0  0.0  \n",
       "1  0.0  0.0  0.0  0.0  0.0  0.0  \n",
       "2  0.0  0.0  0.0  0.0  0.0  0.0  \n",
       "3  0.0  0.0  0.0  0.0  0.0  0.0  \n",
       "4  0.0  0.0  0.0  0.0  0.0  0.0  \n",
       "\n",
       "[5 rows x 50 columns]"
      ]
     },
     "execution_count": 176,
     "metadata": {},
     "output_type": "execute_result"
    }
   ],
   "source": [
    "test"
   ]
  },
  {
   "cell_type": "code",
   "execution_count": 187,
   "id": "6f637242",
   "metadata": {},
   "outputs": [],
   "source": [
    "def train_random_forest_with_params(X_train, y_train, max_depth, n_estimators, random_state=42):\n",
    "    model = RandomForestClassifier(n_estimators=n_estimators, max_depth=max_depth, random_state=random_state)\n",
    "    model.fit(X_train, y_train)\n",
    "    return model\n"
   ]
  },
  {
   "cell_type": "code",
   "execution_count": 188,
   "id": "330971c2",
   "metadata": {},
   "outputs": [],
   "source": [
    "X, y = split_target(data_no_vari_correlation , 'Class')\n",
    "X_train, X_test, y_train, y_test = split_train_test_stratified(X, y, test_size=0.2, random_state=42)\n",
    "model = train_random_forest_with_params(X_train, y_train,10, 100)"
   ]
  },
  {
   "cell_type": "code",
   "execution_count": 189,
   "id": "0efcaabb",
   "metadata": {},
   "outputs": [],
   "source": [
    "from sklearn.ensemble import RandomForestClassifier\n",
    "import joblib"
   ]
  },
  {
   "cell_type": "code",
   "execution_count": 191,
   "id": "12d80e02",
   "metadata": {},
   "outputs": [
    {
     "name": "stdout",
     "output_type": "stream",
     "text": [
      "[-1. -1. -1. -1. -1.]\n"
     ]
    }
   ],
   "source": [
    "test_data = test\n",
    "\n",
    "# Make predictions using the trained model\n",
    "predictions = model.predict(test_data)\n"
   ]
  },
  {
   "cell_type": "code",
   "execution_count": 193,
   "id": "467e4f60",
   "metadata": {},
   "outputs": [],
   "source": [
    "probabilities = model.predict_proba(test_data)\n"
   ]
  },
  {
   "cell_type": "code",
   "execution_count": 200,
   "id": "3bc4fc43",
   "metadata": {},
   "outputs": [],
   "source": []
  },
  {
   "cell_type": "code",
   "execution_count": 201,
   "id": "fc8cb8c4",
   "metadata": {},
   "outputs": [
    {
     "data": {
      "text/html": [
       "<div>\n",
       "<style scoped>\n",
       "    .dataframe tbody tr th:only-of-type {\n",
       "        vertical-align: middle;\n",
       "    }\n",
       "\n",
       "    .dataframe tbody tr th {\n",
       "        vertical-align: top;\n",
       "    }\n",
       "\n",
       "    .dataframe thead th {\n",
       "        text-align: right;\n",
       "    }\n",
       "</style>\n",
       "<table border=\"1\" class=\"dataframe\">\n",
       "  <thead>\n",
       "    <tr style=\"text-align: right;\">\n",
       "      <th></th>\n",
       "      <th>Id</th>\n",
       "      <th>class_0</th>\n",
       "      <th>class_1</th>\n",
       "    </tr>\n",
       "  </thead>\n",
       "  <tbody>\n",
       "    <tr>\n",
       "      <th>0</th>\n",
       "      <td>00eed32682bb</td>\n",
       "      <td>0.59</td>\n",
       "      <td>0.41</td>\n",
       "    </tr>\n",
       "    <tr>\n",
       "      <th>1</th>\n",
       "      <td>010ebe33f668</td>\n",
       "      <td>0.59</td>\n",
       "      <td>0.41</td>\n",
       "    </tr>\n",
       "    <tr>\n",
       "      <th>2</th>\n",
       "      <td>02fa521e1838</td>\n",
       "      <td>0.59</td>\n",
       "      <td>0.41</td>\n",
       "    </tr>\n",
       "    <tr>\n",
       "      <th>3</th>\n",
       "      <td>040e15f562a2</td>\n",
       "      <td>0.59</td>\n",
       "      <td>0.41</td>\n",
       "    </tr>\n",
       "    <tr>\n",
       "      <th>4</th>\n",
       "      <td>046e85c7cc7f</td>\n",
       "      <td>0.59</td>\n",
       "      <td>0.41</td>\n",
       "    </tr>\n",
       "  </tbody>\n",
       "</table>\n",
       "</div>"
      ],
      "text/plain": [
       "             Id  class_0  class_1\n",
       "0  00eed32682bb     0.59     0.41\n",
       "1  010ebe33f668     0.59     0.41\n",
       "2  02fa521e1838     0.59     0.41\n",
       "3  040e15f562a2     0.59     0.41\n",
       "4  046e85c7cc7f     0.59     0.41"
      ]
     },
     "execution_count": 201,
     "metadata": {},
     "output_type": "execute_result"
    }
   ],
   "source": [
    "sample_submission[['class_0', 'class_1']] = probabilities\n",
    "sample_submission.to_csv('submission.csv', index=False)\n",
    "sample_submission"
   ]
  },
  {
   "cell_type": "code",
   "execution_count": null,
   "id": "939f9f0d",
   "metadata": {},
   "outputs": [],
   "source": []
  }
 ],
 "metadata": {
  "kernelspec": {
   "display_name": "Python 3 (ipykernel)",
   "language": "python",
   "name": "python3"
  },
  "language_info": {
   "codemirror_mode": {
    "name": "ipython",
    "version": 3
   },
   "file_extension": ".py",
   "mimetype": "text/x-python",
   "name": "python",
   "nbconvert_exporter": "python",
   "pygments_lexer": "ipython3",
   "version": "3.9.7"
  }
 },
 "nbformat": 4,
 "nbformat_minor": 5
}
